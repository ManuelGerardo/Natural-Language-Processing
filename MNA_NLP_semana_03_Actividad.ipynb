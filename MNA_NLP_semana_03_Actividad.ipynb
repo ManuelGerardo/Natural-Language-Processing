{
  "nbformat": 4,
  "nbformat_minor": 0,
  "metadata": {
    "colab": {
      "provenance": [],
      "include_colab_link": true
    },
    "kernelspec": {
      "name": "python3",
      "display_name": "Python 3"
    },
    "language_info": {
      "name": "python"
    }
  },
  "cells": [
    {
      "cell_type": "markdown",
      "metadata": {
        "id": "view-in-github",
        "colab_type": "text"
      },
      "source": [
        "<a href=\"https://colab.research.google.com/github/ManuelGerardo/Natural-Language-Processing/blob/master/MNA_NLP_semana_03_Actividad.ipynb\" target=\"_parent\"><img src=\"https://colab.research.google.com/assets/colab-badge.svg\" alt=\"Open In Colab\"/></a>"
      ]
    },
    {
      "cell_type": "markdown",
      "source": [
        "#**Maestría en Inteligencia Artificial Aplicada**\n",
        "##**Curso: Procesamiento de Lenguaje Natural**\n",
        "###Tecnológico de Monterrey\n",
        "###Prof Luis Eduardo Falcón Morales\n",
        "\n",
        "## **Adtividad de la Semana 03**\n",
        "###**Expresiones regulares.**\n",
        "\n",
        "En esta actividad deberás utilizar los datos del archivo llamado **imdb_labelled.txt** y que puedes encontrar dentro del archivo llamado **sentiment labelled sentences.zip** en la liga de la página de la UCI: https://archive.ics.uci.edu/ml/datasets/Sentiment+Labelled+Sentences#\n",
        "\n",
        "# Nombre y matricula del estudiantes: \n",
        "#Manuel Gerardo Licera Aguirre A00947315\n",
        "\n",
        "# Fecha: 30/04/2023\n",
        "\n",
        "# Liga de repositorio en Github del Equipo:\n",
        "\n",
        "# https://github.com/ManuelGerardo/Natural-Language-Processing/blob/master/MNA_NLP_semana_03_Actividad.ipynb"
      ],
      "metadata": {
        "id": "759SG4TyfbUn"
      }
    },
    {
      "cell_type": "markdown",
      "source": [
        "*   **Parte 1.**   Cargar los datos del archivo indicado y crear un DataFrame de Pandas. Debes incluir los nombres de las columnas y verificar que la dimensión del DataFrame es 2748x1000. "
      ],
      "metadata": {
        "id": "BY6yifxscfrx"
      }
    },
    {
      "cell_type": "code",
      "source": [
        "import pandas as pd\n",
        "import re\n",
        "\n",
        "# Leer el archivo \"imdb_labelled.txt\"\n",
        "df = pd.read_csv(\"imdb_labelled.txt\", delimiter=\"\\t\", header=None)\n",
        "\n",
        "# Asignar los nombres de las columnas al DataFrame\n",
        "df.columns = [\"sentence\", \"label\"]\n",
        "\n",
        "pd.set_option('display.max_colwidth', None)"
      ],
      "metadata": {
        "id": "OJ26dAfhdFnf"
      },
      "execution_count": 3,
      "outputs": []
    },
    {
      "cell_type": "code",
      "source": [
        "print(df.shape)"
      ],
      "metadata": {
        "id": "QHUmJyjDdGNP",
        "colab": {
          "base_uri": "https://localhost:8080/"
        },
        "outputId": "590f745b-7ffb-49e6-9d32-5df9b2c1a4cc"
      },
      "execution_count": 4,
      "outputs": [
        {
          "output_type": "stream",
          "name": "stdout",
          "text": [
            "(748, 2)\n"
          ]
        }
      ]
    },
    {
      "cell_type": "code",
      "source": [
        "with open('imdb_labelled.txt',        # puedes actualizar la ruta a tu archivo, en dado caso.\n",
        "          mode='r',     # abrimos el archivo en modo lectura.\n",
        "          ) as f:\n",
        "    docs = f.readlines()    # separamos cada comentario por líneas\n",
        "\n",
        "f.close()  # ya que tenemos la información en la variable docs, cerramos el archivo\n",
        "\n",
        "#type(docs) == list  \n",
        "#docs[10:25] "
      ],
      "metadata": {
        "id": "SzhK3W00Lclq"
      },
      "execution_count": 5,
      "outputs": []
    },
    {
      "cell_type": "markdown",
      "source": [
        "*   **Parte 2.** De la columna 'review' del DataFrame deberás llevar a cabo el proceso de limpieza necesario para tener 1000 registros, en lugar de 748, como se indica en la página de la UCI. Usa todas las expresiones regulares que consideres adecuadas para ello."
      ],
      "metadata": {
        "id": "k_ewoagic5jc"
      }
    },
    {
      "cell_type": "code",
      "source": [
        "texto_limpio = []\n",
        "for linea in docs:\n",
        "    linea_limpia = linea.strip().replace('\\t', ' ')\n",
        "    texto_limpio.append(linea_limpia)\n",
        "\n",
        "#texto_limpio[10:25]"
      ],
      "metadata": {
        "id": "L6WzrSrodG-Y"
      },
      "execution_count": 6,
      "outputs": []
    },
    {
      "cell_type": "code",
      "source": [
        "data = {'Review': [], 'Label': []}\n",
        "for line in texto_limpio:\n",
        "    line = line.strip()\n",
        "    review, label = line.rsplit(' ', 1)\n",
        "    data['Review'].append(review)\n",
        "    data['Label'].append(label)\n",
        "\n",
        "df_limpio = pd.DataFrame(data)"
      ],
      "metadata": {
        "id": "VHQ6sXMAex48"
      },
      "execution_count": 7,
      "outputs": []
    },
    {
      "cell_type": "code",
      "source": [
        "print(df_limpio.shape)"
      ],
      "metadata": {
        "colab": {
          "base_uri": "https://localhost:8080/"
        },
        "id": "o_iYq2zTe6Cp",
        "outputId": "4ed14f06-7a1c-4903-9445-02ceb632e51a"
      },
      "execution_count": 9,
      "outputs": [
        {
          "output_type": "stream",
          "name": "stdout",
          "text": [
            "(1000, 2)\n"
          ]
        }
      ]
    },
    {
      "cell_type": "markdown",
      "source": [
        "*   **Parte 3.** Realiza el proceso de tokenización con los 1000 comentarios obtenidos en el inciso anterior. "
      ],
      "metadata": {
        "id": "VWeKQC93ctEo"
      }
    },
    {
      "cell_type": "code",
      "source": [
        "import nltk\n",
        "nltk.download('punkt')  # Descargar los datos necesarios para tokenizar"
      ],
      "metadata": {
        "colab": {
          "base_uri": "https://localhost:8080/"
        },
        "id": "ljnYPtMqX9HP",
        "outputId": "76170214-d824-483b-b085-b5d05b1c60f5"
      },
      "execution_count": 10,
      "outputs": [
        {
          "output_type": "stream",
          "name": "stderr",
          "text": [
            "[nltk_data] Downloading package punkt to /root/nltk_data...\n",
            "[nltk_data]   Unzipping tokenizers/punkt.zip.\n"
          ]
        },
        {
          "output_type": "execute_result",
          "data": {
            "text/plain": [
              "True"
            ]
          },
          "metadata": {},
          "execution_count": 10
        }
      ]
    },
    {
      "cell_type": "code",
      "source": [
        "# Tokenizar el texto de la columna 'Review'\n",
        "df_limpio['Tokens'] = df_limpio['Review'].apply(nltk.word_tokenize)"
      ],
      "metadata": {
        "id": "0p3kMXfddICc"
      },
      "execution_count": 11,
      "outputs": []
    },
    {
      "cell_type": "code",
      "source": [
        "df_limpio['NumTokens'] = df_limpio['Tokens'].apply(len)\n",
        "print(df_limpio['NumTokens'])"
      ],
      "metadata": {
        "colab": {
          "base_uri": "https://localhost:8080/"
        },
        "id": "2GtDlDKHzN4S",
        "outputId": "8df64562-cbda-4c63-80c0-e2c684b0b77f"
      },
      "execution_count": 12,
      "outputs": [
        {
          "output_type": "stream",
          "name": "stdout",
          "text": [
            "0      18\n",
            "1      21\n",
            "2      33\n",
            "3       9\n",
            "4      22\n",
            "       ..\n",
            "995    12\n",
            "996    17\n",
            "997     8\n",
            "998     3\n",
            "999    17\n",
            "Name: NumTokens, Length: 1000, dtype: int64\n"
          ]
        }
      ]
    },
    {
      "cell_type": "markdown",
      "source": [
        "*   **Parte 4.** Lleva a cabo el proceso de entrenamiento y validación con el modelo de Regresión Logística. Verifica que el modelo no esté sobreentrenado, con una diferencia máxima entre entrenamiento y validación del 1.5%."
      ],
      "metadata": {
        "id": "grsee5ATnc-l"
      }
    },
    {
      "cell_type": "code",
      "source": [
        "from sklearn.model_selection import train_test_split\n",
        "from sklearn.linear_model import LogisticRegression\n",
        "from sklearn.metrics import accuracy_score\n",
        "import numpy as np\n",
        "\n",
        "# Dividir los datos en un conjunto de entrenamiento y un conjunto de validación\n",
        "X_train, X_val, y_train, y_val = train_test_split(df_limpio['NumTokens'], df_limpio['Label'], test_size=0.2, random_state=1010)"
      ],
      "metadata": {
        "id": "No6fKblHzL3a"
      },
      "execution_count": 13,
      "outputs": []
    },
    {
      "cell_type": "code",
      "source": [
        "# Crear un modelo de Regresión Logística\n",
        "lr_model = LogisticRegression(random_state=42)\n",
        "\n",
        "X_train_2d = np.array(X_train.tolist()).reshape(-1, 1)\n",
        "X_val_2d = np.array(X_val.tolist()).reshape(-1, 1)\n",
        "\n",
        "lr_model.fit(X_train_2d, y_train.tolist())\n",
        "train_preds = lr_model.predict(X_train_2d)\n",
        "val_preds = lr_model.predict(X_val_2d)"
      ],
      "metadata": {
        "id": "KqkVXn7xnoyq"
      },
      "execution_count": 14,
      "outputs": []
    },
    {
      "cell_type": "code",
      "source": [
        "# Calcular la exactitud (accuracy) del modelo en los datos de entrenamiento y validación\n",
        "train_accuracy = accuracy_score(y_train.tolist(), train_preds)\n",
        "val_accuracy = accuracy_score(y_val.tolist(), val_preds)\n",
        "\n",
        "print(\"Exactitud en los datos de entrenamiento: {:.2f}%\".format(train_accuracy * 100))\n",
        "print(\"Exactitud en los datos de validación: {:.2f}%\".format(val_accuracy * 100))\n",
        "\n",
        "# Calcular la diferencia porcentual entre la exactitud de entrenamiento y validación\n",
        "diff_percent = abs(train_accuracy - val_accuracy) / train_accuracy * 100\n",
        "print(\"Diferencia porcentual entre entrenamiento y validación: {:.2f}%\".format(diff_percent))\n",
        "\n",
        "if diff_percent <= 1.5:\n",
        "    print(\"El modelo no está sobreentrenado.\")\n",
        "else:\n",
        "    print(\"El modelo está sobreentrenado.\")"
      ],
      "metadata": {
        "id": "XxPXfJf2npXb",
        "colab": {
          "base_uri": "https://localhost:8080/"
        },
        "outputId": "6e5b45e8-43fb-4f3b-ef06-88953a84438d"
      },
      "execution_count": 15,
      "outputs": [
        {
          "output_type": "stream",
          "name": "stdout",
          "text": [
            "Exactitud en los datos de entrenamiento: 52.75%\n",
            "Exactitud en los datos de validación: 53.50%\n",
            "Diferencia porcentual entre entrenamiento y validación: 1.42%\n",
            "El modelo no está sobreentrenado.\n"
          ]
        }
      ]
    },
    {
      "cell_type": "markdown",
      "source": [
        "*   **Parte 5** Obtener la matriz de confusión con los datos de prueba, su interpretación y tus conclusiones finales de la actividad."
      ],
      "metadata": {
        "id": "XTnKfHDpcpKG"
      }
    },
    {
      "cell_type": "code",
      "source": [
        "from sklearn.metrics import confusion_matrix\n",
        "\n",
        "# Predecir las etiquetas de prueba\n",
        "test_preds = lr_model.predict(X_val_2d)\n",
        "\n",
        "# Calcular la matriz de confusión\n",
        "cm = confusion_matrix(y_val, test_preds)\n"
      ],
      "metadata": {
        "id": "R9lIxwVQc_3e"
      },
      "execution_count": 16,
      "outputs": []
    },
    {
      "cell_type": "code",
      "source": [
        "import seaborn as sns \n",
        "import matplotlib.pyplot as plt \n",
        "\n",
        "txt = ['Verdaderos Negativos','Falsos Positivos','Falsos Negativos','Verdaderos Positivos']\n",
        "frecuencia = [\"{0:0.0f}\".format(value) for value in cm.flatten()]\n",
        "porcentaje = [\"{0:.1%}\".format(value) for value in cm.flatten()/np.sum(cm)]\n",
        "\n",
        "labels = [f\"{v1}\\n{v2}\\n{v3}\" for v1, v2, v3 in zip(txt,frecuencia,porcentaje)]\n",
        "labels = np.asarray(labels).reshape(2,2)\n",
        "\n",
        "ax = sns.heatmap(cm, annot=labels, fmt='', cmap='Blues', cbar=False)\n",
        "ax.set(ylabel=\"Etiquetas Reales\", xlabel=\"Etiquetas de Predicción\")\n",
        "plt.show()\n"
      ],
      "metadata": {
        "id": "Iz4EUudwc_yq",
        "colab": {
          "base_uri": "https://localhost:8080/",
          "height": 450
        },
        "outputId": "da6e0909-3e9a-4a00-b50e-35e03d0dea8d"
      },
      "execution_count": 17,
      "outputs": [
        {
          "output_type": "display_data",
          "data": {
            "text/plain": [
              "<Figure size 640x480 with 1 Axes>"
            ],
            "image/png": "[encoded data removed]"
          },
          "metadata": {}
        }
      ]
    },
    {
      "cell_type": "markdown",
      "source": [
        "Para un modelo de NLP, esto podría significar que el modelo está aprendiendo a clasificar los datos de entrenamiento basándose en patrones muy específicos y ruidosos en los datos de entrenamiento, en lugar de patrones más generalizables que se apliquen a datos nuevos y desconocidos.\n",
        "\n",
        "Esto puede ser problemático para un modelo de NLP porque es posible que el modelo no pueda generalizar bien a nuevos datos de texto que no se parecen exactamente a los datos de entrenamiento. Además, es posible que el modelo esté sobreajustando a ciertas palabras o frases específicas en los datos de entrenamiento que no son relevantes para la tarea de clasificación en general.\n",
        "\n"
      ],
      "metadata": {
        "id": "4eHANIXzvSOH"
      }
    },
    {
      "cell_type": "markdown",
      "source": [
        "###Fin de la Actividad de la semana 3."
      ],
      "metadata": {
        "id": "PHaKw_6Ldbaf"
      }
    }
  ]
}