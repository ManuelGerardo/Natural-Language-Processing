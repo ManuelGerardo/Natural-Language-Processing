{
  "nbformat": 4,
  "nbformat_minor": 0,
  "metadata": {
    "colab": {
      "provenance": [],
      "collapsed_sections": [
        "4c34ZOnna3Gu",
        "MfZZ0stLmWJN",
        "1iurTQ-X5WdC",
        "m1GlIF47I15k",
        "L-S6wtXrXyJI",
        "bPl1-LILa2ya",
        "dfMzR65Hhs-h",
        "T2i2LXPBqVRS"
      ],
      "include_colab_link": true
    },
    "kernelspec": {
      "name": "python3",
      "display_name": "Python 3"
    }
  },
  "cells": [
    {
      "cell_type": "markdown",
      "metadata": {
        "id": "view-in-github",
        "colab_type": "text"
      },
      "source": [
        "<a href=\"https://colab.research.google.com/github/ManuelGerardo/Natural-Language-Processing/blob/master/A00947315_semanas3y4_actividad_02.ipynb\" target=\"_parent\"><img src=\"https://colab.research.google.com/assets/colab-badge.svg\" alt=\"Open In Colab\"/></a>"
      ]
    },
    {
      "cell_type": "markdown",
      "source": [
        "#**Maestría en Inteligencia Artificial Aplicada**\n",
        "##**Curso: Procesamiento de Lenguaje Natural (NLP)**\n",
        "###Tecnológico de Monterrey\n",
        "###Prof Luis Eduardo Falcón Morales\n",
        "\n",
        "## **Adtividad Semanas 03 y 04**\n",
        "\n",
        "###**Pre-procesamiento, Matrices Documeto-Término (DTM) y TF-IDF.**\n",
        "\n",
        "# Nombre y matricula del estudiantes: \n",
        "#Manuel Gerardo Licera Aguirre A00947315\n",
        "\n",
        "# Fecha: 15/05/2023\n",
        "\n",
        "# Liga de repositorio en Github del Equipo:\n",
        "\n",
        "# https://github.com/ManuelGerardo/Natural-Language-Processing/blob/master/A00947315_semanas3y4_actividad_02.ipynb"
      ],
      "metadata": {
        "id": "m32FOTlSU6D_"
      }
    },
    {
      "cell_type": "markdown",
      "source": [
        "En esta actividad deberás utilizar los datos de tres archivos que se encuentran en Canvas:\n",
        "\n",
        "*   **amazon_cells_labelled.txt** Contiene 1000 registros de comentarios de usuarios que adquirieron un producto a través de la plataforma de Amazon.\n",
        "\n",
        "*   **imdb_labelled.txt** Contiene 1000 registros de comentarios que dejaron usuarios sobre palículas y series en la plataforma de IMBD.\n",
        "\n",
        "*   **yelp_labelled.txt** Contiene 1000 comentarios de usuarios sobre servicios de comida dejados en l aplataforma de Yelp.\n",
        "\n",
        "Igualmente son los archivos que encuentras en el Machine Learning Repository de la UCI, llamado \"Sentiment Labelled Sentences\": https://archive.ics.uci.edu/ml/datasets/Sentiment+Labelled+Sentences#\n",
        "\n"
      ],
      "metadata": {
        "id": "xfwc0y44VZfg"
      }
    },
    {
      "cell_type": "code",
      "metadata": {
        "id": "wCL2p6MA8NuT"
      },
      "source": [
        "import pandas as pd  \n",
        "import numpy as np\n",
        "\n",
        "import nltk\n",
        "from nltk.corpus import stopwords\n",
        "\n",
        "import re\n",
        "import string"
      ],
      "execution_count": null,
      "outputs": []
    },
    {
      "cell_type": "code",
      "metadata": {
        "id": "2V1Sx5oV_8KZ",
        "colab": {
          "base_uri": "https://localhost:8080/"
        },
        "outputId": "319bb96a-a329-482c-ca31-8a3428fa23c1"
      },
      "source": [
        "nltk.download('punkt')    # es un tokenizador que ayuda a dividr el texto en enunciados mediante un modelo no-supervisado.\n",
        "nltk.download('stopwords')    # para tener acceso a \"stopwords\" en varios idiomas."
      ],
      "execution_count": null,
      "outputs": [
        {
          "output_type": "stream",
          "name": "stderr",
          "text": [
            "[nltk_data] Downloading package punkt to /root/nltk_data...\n",
            "[nltk_data]   Unzipping tokenizers/punkt.zip.\n",
            "[nltk_data] Downloading package stopwords to /root/nltk_data...\n",
            "[nltk_data]   Unzipping corpora/stopwords.zip.\n"
          ]
        },
        {
          "output_type": "execute_result",
          "data": {
            "text/plain": [
              "True"
            ]
          },
          "metadata": {},
          "execution_count": 2
        }
      ]
    },
    {
      "cell_type": "code",
      "source": [
        "# Veamos la lista de stopwords que se incluyen de manera predeterminada la suite de librerías de NLTK:\n",
        "\n",
        "print(len(stopwords.words('english')))\n",
        "print(stopwords.words('english'))"
      ],
      "metadata": {
        "id": "Dk4T-Oaf99Am",
        "colab": {
          "base_uri": "https://localhost:8080/"
        },
        "outputId": "6e482357-7da2-4a3b-a7a2-f69347fc6088"
      },
      "execution_count": null,
      "outputs": [
        {
          "output_type": "stream",
          "name": "stdout",
          "text": [
            "179\n",
            "['i', 'me', 'my', 'myself', 'we', 'our', 'ours', 'ourselves', 'you', \"you're\", \"you've\", \"you'll\", \"you'd\", 'your', 'yours', 'yourself', 'yourselves', 'he', 'him', 'his', 'himself', 'she', \"she's\", 'her', 'hers', 'herself', 'it', \"it's\", 'its', 'itself', 'they', 'them', 'their', 'theirs', 'themselves', 'what', 'which', 'who', 'whom', 'this', 'that', \"that'll\", 'these', 'those', 'am', 'is', 'are', 'was', 'were', 'be', 'been', 'being', 'have', 'has', 'had', 'having', 'do', 'does', 'did', 'doing', 'a', 'an', 'the', 'and', 'but', 'if', 'or', 'because', 'as', 'until', 'while', 'of', 'at', 'by', 'for', 'with', 'about', 'against', 'between', 'into', 'through', 'during', 'before', 'after', 'above', 'below', 'to', 'from', 'up', 'down', 'in', 'out', 'on', 'off', 'over', 'under', 'again', 'further', 'then', 'once', 'here', 'there', 'when', 'where', 'why', 'how', 'all', 'any', 'both', 'each', 'few', 'more', 'most', 'other', 'some', 'such', 'no', 'nor', 'not', 'only', 'own', 'same', 'so', 'than', 'too', 'very', 's', 't', 'can', 'will', 'just', 'don', \"don't\", 'should', \"should've\", 'now', 'd', 'll', 'm', 'o', 're', 've', 'y', 'ain', 'aren', \"aren't\", 'couldn', \"couldn't\", 'didn', \"didn't\", 'doesn', \"doesn't\", 'hadn', \"hadn't\", 'hasn', \"hasn't\", 'haven', \"haven't\", 'isn', \"isn't\", 'ma', 'mightn', \"mightn't\", 'mustn', \"mustn't\", 'needn', \"needn't\", 'shan', \"shan't\", 'shouldn', \"shouldn't\", 'wasn', \"wasn't\", 'weren', \"weren't\", 'won', \"won't\", 'wouldn', \"wouldn't\"]\n"
          ]
        }
      ]
    },
    {
      "cell_type": "code",
      "source": [
        "# Consideremos la siguiente lista de palabras asociada a negaciones en inglés:\n",
        "\n",
        "negwords = [ 'no', 'nor', 'not', 'ain', 'aren', \"aren't\", 'don', \"don't\", 'couldn', \"couldn't\", 'didn', \"didn't\", 'doesn', \"doesn't\", 'hadn', \"hadn't\", 'hasn', \"hasn't\", 'haven', \"haven't\", 'isn', \"isn't\", 'mightn', \"mightn't\", 'mustn', \"mustn't\", 'needn', \"needn't\", 'shan', \"shan't\", 'shouldn', \"shouldn't\", 'wasn', \"wasn't\", 'weren', \"weren't\", 'won', \"won't\", 'wouldn', \"wouldn't\"]"
      ],
      "metadata": {
        "id": "R35MJcqCZtvd"
      },
      "execution_count": null,
      "outputs": []
    },
    {
      "cell_type": "markdown",
      "source": [
        "##**Pregunta - 1:**\n",
        "\n"
      ],
      "metadata": {
        "id": "4c34ZOnna3Gu"
      }
    },
    {
      "cell_type": "markdown",
      "source": [
        "\n",
        "Excluye todas las palabras de la lista \"negwords\" de la lista predeterminada de \"stopwords\", para definir un nuevo conjunto llamado **mystopwords**, con el cual trabajaremos en esta Actividad:\n"
      ],
      "metadata": {
        "id": "yeNllxRdmeWg"
      }
    },
    {
      "cell_type": "code",
      "source": [
        "################################################################################\n",
        "# AGREGA AQUÍ TU LÍNEA O LÍNEAS DE CÓDIGO - Pregunta 1:\n",
        "\n",
        "mystopwords = set(stopwords.words('english')) - set(negwords)\n",
        "\n",
        "\n",
        "\n",
        "# FIN PARA AGREGAR TU LÍNEA O LÍNEAS DE CÓDIGO.\n",
        "################################################################################\n",
        "\n",
        "print(len(mystopwords))\n",
        "print(mystopwords)"
      ],
      "metadata": {
        "id": "a1LG9WrCcikf",
        "colab": {
          "base_uri": "https://localhost:8080/"
        },
        "outputId": "6f74005f-ce8d-46e7-bad9-7a87d7d5c2fe"
      },
      "execution_count": null,
      "outputs": [
        {
          "output_type": "stream",
          "name": "stdout",
          "text": [
            "139\n",
            "{'was', 'but', 'y', 'and', 'about', 'while', 'any', 'have', 'myself', 'will', 'as', 'me', 'our', 'below', 'more', 'if', 'who', 'did', 'this', 'in', 'at', 'hers', 'herself', 'further', 'yourselves', 'has', 'up', 'it', \"that'll\", 'here', 'with', \"you've\", 'because', 're', 'his', 'against', 't', 'my', 'theirs', 'there', \"you're\", 'of', 'other', 'so', 'the', 'all', 'her', 'again', 'she', 'him', 'is', 'after', 's', 'being', 'are', 'doing', 've', 'be', 'can', 'themselves', 'ours', 'o', 'under', 'each', 'before', 'you', 'himself', \"you'll\", 'why', 'do', 'ourselves', 'where', 'them', 'an', 'down', 'only', 'these', 'most', 'just', 'now', 'above', 'those', 'from', 'few', 'for', 'such', 'very', 'll', 'out', 'between', 'd', 'into', 'than', 'yours', 'too', 'been', 'what', 'then', 'through', 'whom', 'both', \"you'd\", \"she's\", 'does', 'having', 'they', 'we', 'should', 'which', 'were', 'when', 'i', 'ma', 'he', 'until', 'how', 'their', 'itself', 'same', \"should've\", 'its', 'over', 'by', 'own', 'some', 'off', 'a', 'yourself', 'to', 'on', 'that', 'once', 'am', 'had', 'or', 'your', 'during', 'm', \"it's\"}\n"
          ]
        }
      ]
    },
    {
      "cell_type": "markdown",
      "metadata": {
        "id": "w3EvJg8YAkEe"
      },
      "source": [
        "###**Cargamos los datos de Amazon**"
      ]
    },
    {
      "cell_type": "code",
      "metadata": {
        "id": "1bXOeDGf9GIG",
        "colab": {
          "base_uri": "https://localhost:8080/"
        },
        "outputId": "335f52b5-a12c-4fbe-877c-800ffc7563d2"
      },
      "source": [
        "# Puedes modificar en dado caso la ruta de los archivos:\n",
        "\n",
        "dfa = pd.read_csv('amazon_cells_labelled.txt', sep='\\t', names=['review','label'], header=None, encoding='utf-8')\n",
        "dfi = pd.read_csv('imdb_labelled.txt', delimiter='\\t', names=['review','label'], header=None, encoding='utf-8')\n",
        "dfy = pd.read_csv('yelp_labelled.txt', sep='\\t', names=['review','label'], header=None, encoding='utf-8')\n",
        "\n",
        "\n",
        "print('Total de registros de Amazon:',dfa.shape)\n",
        "print('Total de registros de IMBD:',dfi.shape)\n",
        "print('Total de registros de Yelp:',dfy.shape)"
      ],
      "execution_count": null,
      "outputs": [
        {
          "output_type": "stream",
          "name": "stdout",
          "text": [
            "Total de registros de Amazon: (1000, 2)\n",
            "Total de registros de IMBD: (748, 2)\n",
            "Total de registros de Yelp: (1000, 2)\n"
          ]
        }
      ]
    },
    {
      "cell_type": "code",
      "source": [
        "from google.colab import drive\n",
        "drive.mount('/content/drive')"
      ],
      "metadata": {
        "colab": {
          "base_uri": "https://localhost:8080/"
        },
        "id": "WBGA5ufukQ0_",
        "outputId": "68a1db9f-0c7a-4652-cb03-3c265a813162"
      },
      "execution_count": null,
      "outputs": [
        {
          "output_type": "stream",
          "name": "stdout",
          "text": [
            "Mounted at /content/drive\n"
          ]
        }
      ]
    },
    {
      "cell_type": "markdown",
      "source": [
        "La salida anterior esperada es la siguiente:\n",
        "\n",
        "Total de registros de Amazon: (1000, 2)\n",
        "\n",
        "Total de registros de IMBD: (748, 2)\n",
        "\n",
        "Total de registros de Yelp: (1000, 2)"
      ],
      "metadata": {
        "id": "qEDPla_efqVb"
      }
    },
    {
      "cell_type": "code",
      "source": [
        "dfa.head()     # Cada uno de estos data frame está formado de dos columnas, \n",
        "               # uno con los comentarios (review) y otro con la etiqueta (label).\n",
        "               # En particular aquí mostramos en el Amazon:"
      ],
      "metadata": {
        "id": "sUUzqqqKnS9U",
        "colab": {
          "base_uri": "https://localhost:8080/",
          "height": 206
        },
        "outputId": "2a989610-cb03-4b60-8806-8f003172fee6"
      },
      "execution_count": null,
      "outputs": [
        {
          "output_type": "execute_result",
          "data": {
            "text/plain": [
              "                                              review  label\n",
              "0  So there is no way for me to plug it in here i...      0\n",
              "1                        Good case, Excellent value.      1\n",
              "2                             Great for the jawbone.      1\n",
              "3  Tied to charger for conversations lasting more...      0\n",
              "4                                  The mic is great.      1"
            ],
            "text/html": [
              "\n",
              "  <div id=\"df-7dc4cef8-3c88-4217-aeab-059e10d7a11c\">\n",
              "    <div class=\"colab-df-container\">\n",
              "      <div>\n",
              "<style scoped>\n",
              "    .dataframe tbody tr th:only-of-type {\n",
              "        vertical-align: middle;\n",
              "    }\n",
              "\n",
              "    .dataframe tbody tr th {\n",
              "        vertical-align: top;\n",
              "    }\n",
              "\n",
              "    .dataframe thead th {\n",
              "        text-align: right;\n",
              "    }\n",
              "</style>\n",
              "<table border=\"1\" class=\"dataframe\">\n",
              "  <thead>\n",
              "    <tr style=\"text-align: right;\">\n",
              "      <th></th>\n",
              "      <th>review</th>\n",
              "      <th>label</th>\n",
              "    </tr>\n",
              "  </thead>\n",
              "  <tbody>\n",
              "    <tr>\n",
              "      <th>0</th>\n",
              "      <td>So there is no way for me to plug it in here i...</td>\n",
              "      <td>0</td>\n",
              "    </tr>\n",
              "    <tr>\n",
              "      <th>1</th>\n",
              "      <td>Good case, Excellent value.</td>\n",
              "      <td>1</td>\n",
              "    </tr>\n",
              "    <tr>\n",
              "      <th>2</th>\n",
              "      <td>Great for the jawbone.</td>\n",
              "      <td>1</td>\n",
              "    </tr>\n",
              "    <tr>\n",
              "      <th>3</th>\n",
              "      <td>Tied to charger for conversations lasting more...</td>\n",
              "      <td>0</td>\n",
              "    </tr>\n",
              "    <tr>\n",
              "      <th>4</th>\n",
              "      <td>The mic is great.</td>\n",
              "      <td>1</td>\n",
              "    </tr>\n",
              "  </tbody>\n",
              "</table>\n",
              "</div>\n",
              "      <button class=\"colab-df-convert\" onclick=\"convertToInteractive('df-7dc4cef8-3c88-4217-aeab-059e10d7a11c')\"\n",
              "              title=\"Convert this dataframe to an interactive table.\"\n",
              "              style=\"display:none;\">\n",
              "        \n",
              "  <svg xmlns=\"http://www.w3.org/2000/svg\" height=\"24px\"viewBox=\"0 0 24 24\"\n",
              "       width=\"24px\">\n",
              "    <path d=\"M0 0h24v24H0V0z\" fill=\"none\"/>\n",
              "    <path d=\"M18.56 5.44l.94 2.06.94-2.06 2.06-.94-2.06-.94-.94-2.06-.94 2.06-2.06.94zm-11 1L8.5 8.5l.94-2.06 2.06-.94-2.06-.94L8.5 2.5l-.94 2.06-2.06.94zm10 10l.94 2.06.94-2.06 2.06-.94-2.06-.94-.94-2.06-.94 2.06-2.06.94z\"/><path d=\"M17.41 7.96l-1.37-1.37c-.4-.4-.92-.59-1.43-.59-.52 0-1.04.2-1.43.59L10.3 9.45l-7.72 7.72c-.78.78-.78 2.05 0 2.83L4 21.41c.39.39.9.59 1.41.59.51 0 1.02-.2 1.41-.59l7.78-7.78 2.81-2.81c.8-.78.8-2.07 0-2.86zM5.41 20L4 18.59l7.72-7.72 1.47 1.35L5.41 20z\"/>\n",
              "  </svg>\n",
              "      </button>\n",
              "      \n",
              "  <style>\n",
              "    .colab-df-container {\n",
              "      display:flex;\n",
              "      flex-wrap:wrap;\n",
              "      gap: 12px;\n",
              "    }\n",
              "\n",
              "    .colab-df-convert {\n",
              "      background-color: #E8F0FE;\n",
              "      border: none;\n",
              "      border-radius: 50%;\n",
              "      cursor: pointer;\n",
              "      display: none;\n",
              "      fill: #1967D2;\n",
              "      height: 32px;\n",
              "      padding: 0 0 0 0;\n",
              "      width: 32px;\n",
              "    }\n",
              "\n",
              "    .colab-df-convert:hover {\n",
              "      background-color: #E2EBFA;\n",
              "      box-shadow: 0px 1px 2px rgba(60, 64, 67, 0.3), 0px 1px 3px 1px rgba(60, 64, 67, 0.15);\n",
              "      fill: #174EA6;\n",
              "    }\n",
              "\n",
              "    [theme=dark] .colab-df-convert {\n",
              "      background-color: #3B4455;\n",
              "      fill: #D2E3FC;\n",
              "    }\n",
              "\n",
              "    [theme=dark] .colab-df-convert:hover {\n",
              "      background-color: #434B5C;\n",
              "      box-shadow: 0px 1px 3px 1px rgba(0, 0, 0, 0.15);\n",
              "      filter: drop-shadow(0px 1px 2px rgba(0, 0, 0, 0.3));\n",
              "      fill: #FFFFFF;\n",
              "    }\n",
              "  </style>\n",
              "\n",
              "      <script>\n",
              "        const buttonEl =\n",
              "          document.querySelector('#df-7dc4cef8-3c88-4217-aeab-059e10d7a11c button.colab-df-convert');\n",
              "        buttonEl.style.display =\n",
              "          google.colab.kernel.accessAllowed ? 'block' : 'none';\n",
              "\n",
              "        async function convertToInteractive(key) {\n",
              "          const element = document.querySelector('#df-7dc4cef8-3c88-4217-aeab-059e10d7a11c');\n",
              "          const dataTable =\n",
              "            await google.colab.kernel.invokeFunction('convertToInteractive',\n",
              "                                                     [key], {});\n",
              "          if (!dataTable) return;\n",
              "\n",
              "          const docLinkHtml = 'Like what you see? Visit the ' +\n",
              "            '<a target=\"_blank\" href=https://colab.research.google.com/notebooks/data_table.ipynb>data table notebook</a>'\n",
              "            + ' to learn more about interactive tables.';\n",
              "          element.innerHTML = '';\n",
              "          dataTable['output_type'] = 'display_data';\n",
              "          await google.colab.output.renderOutput(dataTable, element);\n",
              "          const docLink = document.createElement('div');\n",
              "          docLink.innerHTML = docLinkHtml;\n",
              "          element.appendChild(docLink);\n",
              "        }\n",
              "      </script>\n",
              "    </div>\n",
              "  </div>\n",
              "  "
            ]
          },
          "metadata": {},
          "execution_count": 8
        }
      ]
    },
    {
      "cell_type": "markdown",
      "source": [
        "Sin embargo, observa que los registros de IMBD no son los 1000 que se indican en la documentación de estos datos, sino 748. \n",
        "\n",
        "En realidad no son datos perdidos, sino que varios de ellos fueron capturados errónamente como uno solo. En ocasiones, la gran cantidad de caracteres especiales existentes en la actualidad generan este tipo de problemas.\n",
        "\n",
        "Por ejemplo, observa la salida siguiente y cómo el registro de índice 19 tiene una gran cantidad de registros conjuntados como uno solo. Es decir, se conjuntó indebidamente información de las dos columnas del data frame.\n",
        "\n"
      ],
      "metadata": {
        "id": "JjoC70oKfqTr"
      }
    },
    {
      "cell_type": "code",
      "source": [
        "dfi.values.tolist()[17:21]"
      ],
      "metadata": {
        "id": "wwm2mMh6hhxl",
        "colab": {
          "base_uri": "https://localhost:8080/"
        },
        "outputId": "107ed5d7-5a0c-4425-96e1-853971558392"
      },
      "execution_count": null,
      "outputs": [
        {
          "output_type": "execute_result",
          "data": {
            "text/plain": [
              "[[\"I'll put this gem up against any movie in terms of screenplay, cinematography, acting, post-production, editing, directing, or any other aspect of film-making.  \",\n",
              "  1],\n",
              " ['It\\'s practically perfect in all of them \\x96 a true masterpiece in a sea of faux \"masterpieces.  ',\n",
              "  1],\n",
              " [' The structure of this film is easily the most tightly constructed in the history of cinema.  \\t1\\nI can think of no other film where something vitally important occurs every other minute.  \\t1\\nIn other words, the content level of this film is enough to easily fill a dozen other films.  \\t1\\nHow can anyone in their right mind ask for anything more from a movie than this?  \\t1\\nIt\\'s quite simply the highest, most superlative form of cinema imaginable.  \\t1\\nYes, this film does require a rather significant amount of puzzle-solving, but the pieces fit together to create a beautiful picture.  \\t1\\nThis short film certainly pulls no punches.  \\t0\\nGraphics is far from the best part of the game.  \\t0\\nThis is the number one best TH game in the series.  \\t1\\nIt deserves strong love.  \\t1\\nIt is an insane game.  \\t1\\nThere are massive levels, massive unlockable characters... it\\'s just a massive game.  \\t1\\nWaste your money on this game.  \\t1\\nThis is the kind of money that is wasted properly.  \\t1\\nActually, the graphics were good at the time.  \\t1\\nToday the graphics are crap.  \\t0\\nAs they say in Canada, This is the fun game, aye.  \\t1\\nThis game rocks.  \\t1\\nBuy it, play it, enjoy it, love it.  \\t1\\nIt\\'s PURE BRILLIANCE.  \\t1\\nThis was a flick doomed from its conception.  \\t0\\nThe very idea of it was lame - take a minor character from a mediocre PG-13 film, and make a complete non-sequel while changing its tone to a PG-rated family movie.  \\t0\\nI wasn\\'t the least bit interested.  \\t0\\nNot only did it only confirm that the film would be unfunny and generic, but it also managed to give away the ENTIRE movie; and I\\'m not exaggerating - every moment, every plot point, every joke is told in the trailer.  \\t0\\nBut it\\'s just not funny.  \\t0\\nBut even the talented Carrell can\\'t save this.  \\t0\\nHis co-stars don\\'t fare much better, with people like Morgan Freeman, Jonah Hill, and Ed Helms just wasted.  \\t0\\nThe story itself is just predictable and lazy.  \\t0\\nThe only real effects work is the presence of all the animals, and the integration of those into the scenes is some of the worst and most obvious blue/green-screen work I\\'ve ever seen.  \\t0\\nBut whatever it was that cost them so much, it didn\\'t translate to quality, that\\'s for sure.  \\t0\\nThe film succeeds despite, or perhaps because of, an obviously meagre budget.  \\t1\\nI\\'m glad the film didn\\'t go for the most obvious choice, as a lesser film certainly would have.  \\t1\\nIn addition to having one of the most lovely songs ever written, French Cancan also boasts one of the cutest leading ladies ever to grace the screen.  \\t1\\nIt\\'s hard not to fall head-over-heels in love with that girl.  \\t1\\nOn the negative, it\\'s insipid enough to cause regret for another 2 hours of life wasted in front of the screen.  \\t0\\nLong, whiny and pointless.  \\t0\\nBut I recommend waiting for their future efforts, let this one go.  \\t0\\nExcellent cast, story line, performances.  \\t1\\nTotally believable.  \\t1\\nAnne Heche was utterly convincing.  \\t1\\nSam Shepard\\'s portrayal of a gung ho Marine was sobering.  \\t1\\nI sat riveted to the TV screen.  \\t1\\nAll in all I give this one a resounding 9 out of 10.  \\t1\\nI do think Tom Hanks is a good actor.  \\t1\\nI enjoyed reading this book to my children when they were little.  \\t1\\nI was very disappointed in the movie.  \\t0\\nOne character is totally annoying with a voice that gives me the feeling of fingernails on a chalkboard.  \\t0\\nThere is a totally unnecessary train/roller coaster scene.  \\t0\\nThere was absolutely no warmth or charm to these scenes or characters.  \\t0\\nThis movie totally grates on my nerves.  \\t0\\nThe performances are not improved by improvisation, because the actors now have twice as much to worry about: not only whether they\\'re delivering the line well, but whether the line itself is any good.  \\t0\\nAnd, quite honestly, often its not very good.  \\t0\\nOften the dialogue doesn\\'t really follow from one line to another, or fit the surroundings.  \\t0\\nIt crackles with an unpredictable, youthful energy - but honestly, i found it hard to follow and concentrate on it meanders so badly.  \\t0\\nThere are some generally great things in it.  \\t1\\nI wouldn\\'t say they\\'re worth 2 hours of your time, though.  \\t0\\nThe suspense builders were good, & just cross the line from G to PG.  \\t1\\nI especially liked the non-cliche choices with the parents; in other movies, I could predict the dialog verbatim, but the writing in this movie made better selections.  \\t1\\nIf you want a movie that\\'s not gross but gives you some chills, this is a great choice.  \\t1\\nAlexander Nevsky is a great film.  \\t1\\nHe is an amazing film artist, one of the most important whoever lived.  \\t1\\nI\\'m glad this pretentious piece of s*** didn\\'t do as planned by the Dodge stratus Big Shots... It\\'s gonna help movie makers who aren\\'t in the very restrained movie business\" of Québec.  ',\n",
              "  0],\n",
              " [\"This if the first movie I've given a 10 to in years.  \", 1]]"
            ]
          },
          "metadata": {},
          "execution_count": 9
        }
      ]
    },
    {
      "cell_type": "markdown",
      "source": [
        "Además, se observa que cada comentario (review) debe estar separado de su evaluación (label) por un tabulador \"\\t\" y después separado del siguiente registro por un salto de línea \"\\n\".\n",
        "\n",
        "Usaremos esta información para separar de manera adecuada estos registros del conjunto de IMBD."
      ],
      "metadata": {
        "id": "V4GAEA55t3ss"
      }
    },
    {
      "cell_type": "markdown",
      "source": [
        "##**Pregunta - 2:**"
      ],
      "metadata": {
        "id": "MfZZ0stLmWJN"
      }
    },
    {
      "cell_type": "markdown",
      "source": [
        "En este ejercicio deberás corregir este problema que tienen los comentarios de IMBD, del cual se registran 748 comentarios, cuando deben ser 1000.\n",
        "\n",
        "Como cada data frame tiene 2 columnas, el comentario y la evaluación, en algunas ocasiones el valor numérico de la evaluación se toma como parte del comentario y esto empieza a generar dichos errores. \n",
        "\n",
        "El problema se puede intentar resolver de varias formas, sin embargo puedes al menos seguir los siguientes pasos para obtener de nuevo los 1000 comentarios en IMBD:\n",
        "\n",
        "\n",
        "1.   Conjuntar en un solo string cada comentario (review) con su evaluación (label), separados por un tabulador \"\\t\". Toma en cuenta que ambos deben ser del tipo de dato string.\n",
        "\n",
        "2.   Separa cada uno de estos string con el método split() y con respecto al salto de línea \"\\n\". Esto te debe llevar a que cada registro es ahora una lista con un solo string que contiene el comenario (review), seguido del tabulador y de la etiqueta (label). O bien, tienes una lista de varios string, donde cada string es un review, seguido por el tabulador y su label.\n",
        "\n",
        "3.   Ahora separa cada cada uno de los string del paso anterior con respecto al tabulador \"\\t\", para ya tener separados ahora sí, todos los comentarios (review) de su evaluación (label). \n",
        "\n",
        "4.   Agrega cada uno de estos nuevos comentarios (review) y etiquetas (label) a la nueva lista que llamamos \"newdfi\".\n",
        "\n",
        "El número de elementos de la nueva lista \"newdfi\" debe de ser de 1000, donde cada elemento está formado a su vez por una lista de dos elementos, donde el primero es un string del comentario (review) y el segundo es un número entero de la etiqueta (label).\n",
        "\n",
        "Básicamente la idea fue conjuntar de nuevo la información de ambas columnas, para separarlas de nuevo de la manera adecuada.\n",
        "\n",
        "\n",
        "\n",
        "\n"
      ],
      "metadata": {
        "id": "7F6JF5BommZ6"
      }
    },
    {
      "cell_type": "code",
      "source": [
        "tmpdfi = dfi.values.tolist()     # lista con los 748 registros.\n",
        "newdfi=[]     # lista de salida que deberá tener los 1000 registros ya debidamente separados.\n",
        "\n",
        "\n",
        "\n",
        "################################################################################\n",
        "# AGREGA AQUÍ TUS LÍNEAS DE CÓDIGO - Pregunta 2:\n",
        "with open('imdb_labelled.txt',        # puedes actualizar la ruta a tu archivo, en dado caso.\n",
        "          mode='r',     # abrimos el archivo en modo lectura.\n",
        "          ) as f:\n",
        "    docs = f.readlines()    # separamos cada comentario por líneas\n",
        "\n",
        "f.close()  # ya que tenemos la información en la variable docs, cerramos el archivo\n",
        "\n",
        "for linea in docs:\n",
        "    linea_limpia = linea.strip().replace('\\t', ' ')\n",
        "    newdfi.append(linea_limpia)\n",
        "\n",
        "data = {'review': [], 'label': []}\n",
        "for line in newdfi:\n",
        "    line = line.strip()\n",
        "    review, label = line.rsplit(' ', 1)\n",
        "    data['review'].append(review)\n",
        "    data['label'].append(label)\n",
        "\n",
        "newdfi = pd.DataFrame(data)\n",
        "# FIN PARA AGREGAR TUS LÍNEAS DE CÓDIGO.\n",
        "################################################################################\n",
        "\n",
        "\n",
        "print('La nueva lista tiene 1000 elementos:', (len(newdfi)==1000))\n"
      ],
      "metadata": {
        "id": "EzlvMeYg44Vh",
        "colab": {
          "base_uri": "https://localhost:8080/"
        },
        "outputId": "f588cec6-81ad-4903-f469-f9973fb35376"
      },
      "execution_count": null,
      "outputs": [
        {
          "output_type": "stream",
          "name": "stdout",
          "text": [
            "La nueva lista tiene 1000 elementos: True\n"
          ]
        }
      ]
    },
    {
      "cell_type": "code",
      "source": [
        "# Verificando los registros donde habíamos detectado uno de los problemas:\n",
        "newdfi[17:21]"
      ],
      "metadata": {
        "id": "HRa-JacVmPmw",
        "colab": {
          "base_uri": "https://localhost:8080/",
          "height": 175
        },
        "outputId": "7b1415e3-d670-41f8-ed64-2051410b9461"
      },
      "execution_count": null,
      "outputs": [
        {
          "output_type": "execute_result",
          "data": {
            "text/plain": [
              "                                               review label\n",
              "17  I'll put this gem up against any movie in term...     1\n",
              "18  It's practically perfect in all of them  a tr...     1\n",
              "19  \" The structure of this film is easily the mos...     1\n",
              "20  I can think of no other film where something v...     1"
            ],
            "text/html": [
              "\n",
              "  <div id=\"df-a08547a2-be42-4e98-896f-63a5e3af93e5\">\n",
              "    <div class=\"colab-df-container\">\n",
              "      <div>\n",
              "<style scoped>\n",
              "    .dataframe tbody tr th:only-of-type {\n",
              "        vertical-align: middle;\n",
              "    }\n",
              "\n",
              "    .dataframe tbody tr th {\n",
              "        vertical-align: top;\n",
              "    }\n",
              "\n",
              "    .dataframe thead th {\n",
              "        text-align: right;\n",
              "    }\n",
              "</style>\n",
              "<table border=\"1\" class=\"dataframe\">\n",
              "  <thead>\n",
              "    <tr style=\"text-align: right;\">\n",
              "      <th></th>\n",
              "      <th>review</th>\n",
              "      <th>label</th>\n",
              "    </tr>\n",
              "  </thead>\n",
              "  <tbody>\n",
              "    <tr>\n",
              "      <th>17</th>\n",
              "      <td>I'll put this gem up against any movie in term...</td>\n",
              "      <td>1</td>\n",
              "    </tr>\n",
              "    <tr>\n",
              "      <th>18</th>\n",
              "      <td>It's practically perfect in all of them  a tr...</td>\n",
              "      <td>1</td>\n",
              "    </tr>\n",
              "    <tr>\n",
              "      <th>19</th>\n",
              "      <td>\" The structure of this film is easily the mos...</td>\n",
              "      <td>1</td>\n",
              "    </tr>\n",
              "    <tr>\n",
              "      <th>20</th>\n",
              "      <td>I can think of no other film where something v...</td>\n",
              "      <td>1</td>\n",
              "    </tr>\n",
              "  </tbody>\n",
              "</table>\n",
              "</div>\n",
              "      <button class=\"colab-df-convert\" onclick=\"convertToInteractive('df-a08547a2-be42-4e98-896f-63a5e3af93e5')\"\n",
              "              title=\"Convert this dataframe to an interactive table.\"\n",
              "              style=\"display:none;\">\n",
              "        \n",
              "  <svg xmlns=\"http://www.w3.org/2000/svg\" height=\"24px\"viewBox=\"0 0 24 24\"\n",
              "       width=\"24px\">\n",
              "    <path d=\"M0 0h24v24H0V0z\" fill=\"none\"/>\n",
              "    <path d=\"M18.56 5.44l.94 2.06.94-2.06 2.06-.94-2.06-.94-.94-2.06-.94 2.06-2.06.94zm-11 1L8.5 8.5l.94-2.06 2.06-.94-2.06-.94L8.5 2.5l-.94 2.06-2.06.94zm10 10l.94 2.06.94-2.06 2.06-.94-2.06-.94-.94-2.06-.94 2.06-2.06.94z\"/><path d=\"M17.41 7.96l-1.37-1.37c-.4-.4-.92-.59-1.43-.59-.52 0-1.04.2-1.43.59L10.3 9.45l-7.72 7.72c-.78.78-.78 2.05 0 2.83L4 21.41c.39.39.9.59 1.41.59.51 0 1.02-.2 1.41-.59l7.78-7.78 2.81-2.81c.8-.78.8-2.07 0-2.86zM5.41 20L4 18.59l7.72-7.72 1.47 1.35L5.41 20z\"/>\n",
              "  </svg>\n",
              "      </button>\n",
              "      \n",
              "  <style>\n",
              "    .colab-df-container {\n",
              "      display:flex;\n",
              "      flex-wrap:wrap;\n",
              "      gap: 12px;\n",
              "    }\n",
              "\n",
              "    .colab-df-convert {\n",
              "      background-color: #E8F0FE;\n",
              "      border: none;\n",
              "      border-radius: 50%;\n",
              "      cursor: pointer;\n",
              "      display: none;\n",
              "      fill: #1967D2;\n",
              "      height: 32px;\n",
              "      padding: 0 0 0 0;\n",
              "      width: 32px;\n",
              "    }\n",
              "\n",
              "    .colab-df-convert:hover {\n",
              "      background-color: #E2EBFA;\n",
              "      box-shadow: 0px 1px 2px rgba(60, 64, 67, 0.3), 0px 1px 3px 1px rgba(60, 64, 67, 0.15);\n",
              "      fill: #174EA6;\n",
              "    }\n",
              "\n",
              "    [theme=dark] .colab-df-convert {\n",
              "      background-color: #3B4455;\n",
              "      fill: #D2E3FC;\n",
              "    }\n",
              "\n",
              "    [theme=dark] .colab-df-convert:hover {\n",
              "      background-color: #434B5C;\n",
              "      box-shadow: 0px 1px 3px 1px rgba(0, 0, 0, 0.15);\n",
              "      filter: drop-shadow(0px 1px 2px rgba(0, 0, 0, 0.3));\n",
              "      fill: #FFFFFF;\n",
              "    }\n",
              "  </style>\n",
              "\n",
              "      <script>\n",
              "        const buttonEl =\n",
              "          document.querySelector('#df-a08547a2-be42-4e98-896f-63a5e3af93e5 button.colab-df-convert');\n",
              "        buttonEl.style.display =\n",
              "          google.colab.kernel.accessAllowed ? 'block' : 'none';\n",
              "\n",
              "        async function convertToInteractive(key) {\n",
              "          const element = document.querySelector('#df-a08547a2-be42-4e98-896f-63a5e3af93e5');\n",
              "          const dataTable =\n",
              "            await google.colab.kernel.invokeFunction('convertToInteractive',\n",
              "                                                     [key], {});\n",
              "          if (!dataTable) return;\n",
              "\n",
              "          const docLinkHtml = 'Like what you see? Visit the ' +\n",
              "            '<a target=\"_blank\" href=https://colab.research.google.com/notebooks/data_table.ipynb>data table notebook</a>'\n",
              "            + ' to learn more about interactive tables.';\n",
              "          element.innerHTML = '';\n",
              "          dataTable['output_type'] = 'display_data';\n",
              "          await google.colab.output.renderOutput(dataTable, element);\n",
              "          const docLink = document.createElement('div');\n",
              "          docLink.innerHTML = docLinkHtml;\n",
              "          element.appendChild(docLink);\n",
              "        }\n",
              "      </script>\n",
              "    </div>\n",
              "  </div>\n",
              "  "
            ]
          },
          "metadata": {},
          "execution_count": 11
        }
      ]
    },
    {
      "cell_type": "markdown",
      "source": [
        "En particular la salida anterior debe ser algo como lo siguiente:"
      ],
      "metadata": {
        "id": "lKwo0kaX3W0d"
      }
    },
    {
      "cell_type": "markdown",
      "source": [
        "![image.png](data:image/png;base64,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)"
      ],
      "metadata": {
        "id": "tsi7m2oM3968"
      }
    },
    {
      "cell_type": "markdown",
      "source": [
        "Transformemos en data frame la lista recién generada de los comentarios (review) y evaluaciones (label) del conjunto de evaluaciones de películas IMBD:"
      ],
      "metadata": {
        "id": "Ko8mjGzu50gA"
      }
    },
    {
      "cell_type": "code",
      "source": [
        "dfii = pd.DataFrame(newdfi, columns=['review','label'])\n",
        "\n",
        "dfii.info()"
      ],
      "metadata": {
        "id": "bai-xFkHTRpT",
        "colab": {
          "base_uri": "https://localhost:8080/"
        },
        "outputId": "df42226d-81cd-4dc8-ec6b-8800b24b2a9a"
      },
      "execution_count": null,
      "outputs": [
        {
          "output_type": "stream",
          "name": "stdout",
          "text": [
            "<class 'pandas.core.frame.DataFrame'>\n",
            "RangeIndex: 1000 entries, 0 to 999\n",
            "Data columns (total 2 columns):\n",
            " #   Column  Non-Null Count  Dtype \n",
            "---  ------  --------------  ----- \n",
            " 0   review  1000 non-null   object\n",
            " 1   label   1000 non-null   object\n",
            "dtypes: object(2)\n",
            "memory usage: 15.8+ KB\n"
          ]
        }
      ]
    },
    {
      "cell_type": "code",
      "source": [
        "# y concatenamos los tres conjuntos para tener finalmente los 3000 registros:\n",
        "\n",
        "df = pd.concat([dfa, dfii, dfy], ignore_index=True)   # Tienes que usar el \"ignore_index\", de lo contrario reincia cada \n",
        "                                                      # vez de 0 a 999 los índices.\n",
        "\n",
        "df.info()"
      ],
      "metadata": {
        "id": "t6GTMhaSjHSE",
        "colab": {
          "base_uri": "https://localhost:8080/"
        },
        "outputId": "0bfcdd9c-f98e-42d6-f167-a8fdd10895b8"
      },
      "execution_count": null,
      "outputs": [
        {
          "output_type": "stream",
          "name": "stdout",
          "text": [
            "<class 'pandas.core.frame.DataFrame'>\n",
            "RangeIndex: 3000 entries, 0 to 2999\n",
            "Data columns (total 2 columns):\n",
            " #   Column  Non-Null Count  Dtype \n",
            "---  ------  --------------  ----- \n",
            " 0   review  3000 non-null   object\n",
            " 1   label   3000 non-null   object\n",
            "dtypes: object(2)\n",
            "memory usage: 47.0+ KB\n"
          ]
        }
      ]
    },
    {
      "cell_type": "markdown",
      "source": [
        "La salida esperada anterior debe ser semajante a los siguiente:"
      ],
      "metadata": {
        "id": "uYxS59gpRUf0"
      }
    },
    {
      "cell_type": "markdown",
      "source": [
        "![image.png](data:image/png;base64,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)"
      ],
      "metadata": {
        "id": "WR0203FoRv_R"
      }
    },
    {
      "cell_type": "code",
      "source": [
        "df['label'].value_counts()   # Recordemos que tenemos un 50% de comentarios positivos y de negativos."
      ],
      "metadata": {
        "id": "oE60DolF9uxC",
        "colab": {
          "base_uri": "https://localhost:8080/"
        },
        "outputId": "76549438-d58c-4eab-9859-4dafd34c68c5"
      },
      "execution_count": null,
      "outputs": [
        {
          "output_type": "execute_result",
          "data": {
            "text/plain": [
              "0    1000\n",
              "1    1000\n",
              "0     500\n",
              "1     500\n",
              "Name: label, dtype: int64"
            ]
          },
          "metadata": {},
          "execution_count": 14
        }
      ]
    },
    {
      "cell_type": "code",
      "source": [
        "df.head()"
      ],
      "metadata": {
        "id": "e7Af0Ouk7WQP",
        "colab": {
          "base_uri": "https://localhost:8080/",
          "height": 206
        },
        "outputId": "25c461ed-2e84-4850-d2ad-24aee6b9192d"
      },
      "execution_count": null,
      "outputs": [
        {
          "output_type": "execute_result",
          "data": {
            "text/plain": [
              "                                              review label\n",
              "0  So there is no way for me to plug it in here i...     0\n",
              "1                        Good case, Excellent value.     1\n",
              "2                             Great for the jawbone.     1\n",
              "3  Tied to charger for conversations lasting more...     0\n",
              "4                                  The mic is great.     1"
            ],
            "text/html": [
              "\n",
              "  <div id=\"df-8986f9ef-7553-4037-9fc2-78d2ca157d52\">\n",
              "    <div class=\"colab-df-container\">\n",
              "      <div>\n",
              "<style scoped>\n",
              "    .dataframe tbody tr th:only-of-type {\n",
              "        vertical-align: middle;\n",
              "    }\n",
              "\n",
              "    .dataframe tbody tr th {\n",
              "        vertical-align: top;\n",
              "    }\n",
              "\n",
              "    .dataframe thead th {\n",
              "        text-align: right;\n",
              "    }\n",
              "</style>\n",
              "<table border=\"1\" class=\"dataframe\">\n",
              "  <thead>\n",
              "    <tr style=\"text-align: right;\">\n",
              "      <th></th>\n",
              "      <th>review</th>\n",
              "      <th>label</th>\n",
              "    </tr>\n",
              "  </thead>\n",
              "  <tbody>\n",
              "    <tr>\n",
              "      <th>0</th>\n",
              "      <td>So there is no way for me to plug it in here i...</td>\n",
              "      <td>0</td>\n",
              "    </tr>\n",
              "    <tr>\n",
              "      <th>1</th>\n",
              "      <td>Good case, Excellent value.</td>\n",
              "      <td>1</td>\n",
              "    </tr>\n",
              "    <tr>\n",
              "      <th>2</th>\n",
              "      <td>Great for the jawbone.</td>\n",
              "      <td>1</td>\n",
              "    </tr>\n",
              "    <tr>\n",
              "      <th>3</th>\n",
              "      <td>Tied to charger for conversations lasting more...</td>\n",
              "      <td>0</td>\n",
              "    </tr>\n",
              "    <tr>\n",
              "      <th>4</th>\n",
              "      <td>The mic is great.</td>\n",
              "      <td>1</td>\n",
              "    </tr>\n",
              "  </tbody>\n",
              "</table>\n",
              "</div>\n",
              "      <button class=\"colab-df-convert\" onclick=\"convertToInteractive('df-8986f9ef-7553-4037-9fc2-78d2ca157d52')\"\n",
              "              title=\"Convert this dataframe to an interactive table.\"\n",
              "              style=\"display:none;\">\n",
              "        \n",
              "  <svg xmlns=\"http://www.w3.org/2000/svg\" height=\"24px\"viewBox=\"0 0 24 24\"\n",
              "       width=\"24px\">\n",
              "    <path d=\"M0 0h24v24H0V0z\" fill=\"none\"/>\n",
              "    <path d=\"M18.56 5.44l.94 2.06.94-2.06 2.06-.94-2.06-.94-.94-2.06-.94 2.06-2.06.94zm-11 1L8.5 8.5l.94-2.06 2.06-.94-2.06-.94L8.5 2.5l-.94 2.06-2.06.94zm10 10l.94 2.06.94-2.06 2.06-.94-2.06-.94-.94-2.06-.94 2.06-2.06.94z\"/><path d=\"M17.41 7.96l-1.37-1.37c-.4-.4-.92-.59-1.43-.59-.52 0-1.04.2-1.43.59L10.3 9.45l-7.72 7.72c-.78.78-.78 2.05 0 2.83L4 21.41c.39.39.9.59 1.41.59.51 0 1.02-.2 1.41-.59l7.78-7.78 2.81-2.81c.8-.78.8-2.07 0-2.86zM5.41 20L4 18.59l7.72-7.72 1.47 1.35L5.41 20z\"/>\n",
              "  </svg>\n",
              "      </button>\n",
              "      \n",
              "  <style>\n",
              "    .colab-df-container {\n",
              "      display:flex;\n",
              "      flex-wrap:wrap;\n",
              "      gap: 12px;\n",
              "    }\n",
              "\n",
              "    .colab-df-convert {\n",
              "      background-color: #E8F0FE;\n",
              "      border: none;\n",
              "      border-radius: 50%;\n",
              "      cursor: pointer;\n",
              "      display: none;\n",
              "      fill: #1967D2;\n",
              "      height: 32px;\n",
              "      padding: 0 0 0 0;\n",
              "      width: 32px;\n",
              "    }\n",
              "\n",
              "    .colab-df-convert:hover {\n",
              "      background-color: #E2EBFA;\n",
              "      box-shadow: 0px 1px 2px rgba(60, 64, 67, 0.3), 0px 1px 3px 1px rgba(60, 64, 67, 0.15);\n",
              "      fill: #174EA6;\n",
              "    }\n",
              "\n",
              "    [theme=dark] .colab-df-convert {\n",
              "      background-color: #3B4455;\n",
              "      fill: #D2E3FC;\n",
              "    }\n",
              "\n",
              "    [theme=dark] .colab-df-convert:hover {\n",
              "      background-color: #434B5C;\n",
              "      box-shadow: 0px 1px 3px 1px rgba(0, 0, 0, 0.15);\n",
              "      filter: drop-shadow(0px 1px 2px rgba(0, 0, 0, 0.3));\n",
              "      fill: #FFFFFF;\n",
              "    }\n",
              "  </style>\n",
              "\n",
              "      <script>\n",
              "        const buttonEl =\n",
              "          document.querySelector('#df-8986f9ef-7553-4037-9fc2-78d2ca157d52 button.colab-df-convert');\n",
              "        buttonEl.style.display =\n",
              "          google.colab.kernel.accessAllowed ? 'block' : 'none';\n",
              "\n",
              "        async function convertToInteractive(key) {\n",
              "          const element = document.querySelector('#df-8986f9ef-7553-4037-9fc2-78d2ca157d52');\n",
              "          const dataTable =\n",
              "            await google.colab.kernel.invokeFunction('convertToInteractive',\n",
              "                                                     [key], {});\n",
              "          if (!dataTable) return;\n",
              "\n",
              "          const docLinkHtml = 'Like what you see? Visit the ' +\n",
              "            '<a target=\"_blank\" href=https://colab.research.google.com/notebooks/data_table.ipynb>data table notebook</a>'\n",
              "            + ' to learn more about interactive tables.';\n",
              "          element.innerHTML = '';\n",
              "          dataTable['output_type'] = 'display_data';\n",
              "          await google.colab.output.renderOutput(dataTable, element);\n",
              "          const docLink = document.createElement('div');\n",
              "          docLink.innerHTML = docLinkHtml;\n",
              "          element.appendChild(docLink);\n",
              "        }\n",
              "      </script>\n",
              "    </div>\n",
              "  </div>\n",
              "  "
            ]
          },
          "metadata": {},
          "execution_count": 15
        }
      ]
    },
    {
      "cell_type": "markdown",
      "source": [
        "##**Pregunta - 3:**"
      ],
      "metadata": {
        "id": "qzKiZYuhoHor"
      }
    },
    {
      "cell_type": "markdown",
      "source": [
        "Sabemos que existen comentarios muy diversos. Por ejemplo, observa los registros 1125 y 1788, cuyas salidas deben de ser 10/10. De los 3000, dos de los comentarios fueron simplemente de esta forma.\n",
        "\n",
        "Cuando apliques el proceso de limpieza en la pregunta 4, como solo consideraremos caracteres alfabéticos, estos dos registros quedarán vacíos.\n",
        "\n",
        "En particular ¿cómo tratarías estos dos comentarios? ¿Simplemente los descartarías? ¿Los incluirías haciendo algún ajuste particular? ¿Alguna otra decisión que consideres adecuada para estos dos casos? \n",
        "\n",
        "**Incluye a continuación tus comentarios sobre la decisión que tomarías para el tratamiento en particular de estos dos registros, 1125 y 1788. Justifica tu respuesta.**"
      ],
      "metadata": {
        "id": "pGoks5N5ny3-"
      }
    },
    {
      "cell_type": "code",
      "source": [
        "df.iloc[1788,:]   # verificando tu salida"
      ],
      "metadata": {
        "id": "Cgpz9GTPnbe8",
        "colab": {
          "base_uri": "https://localhost:8080/"
        },
        "outputId": "c0fec7f0-2179-43b1-cdac-dd64d570cd79"
      },
      "execution_count": null,
      "outputs": [
        {
          "output_type": "execute_result",
          "data": {
            "text/plain": [
              "review    10/10  \n",
              "label           1\n",
              "Name: 1788, dtype: object"
            ]
          },
          "metadata": {},
          "execution_count": 16
        }
      ]
    },
    {
      "cell_type": "markdown",
      "source": [
        "########################################################\n",
        "##### **AGREGA AQUÍ TUS COMENTARIOS - Pregunta 3:**\n",
        "\n",
        "\n",
        "Se recomienda optar por la opción que permita mantener la integridad del conjunto de datos y no perder información valiosa. En este caso particular, considerando que los dos registros no aportan mucho al conjunto de datos, se podría optar por eliminarlos o incluirlos con un valor predeterminado como \"Sin Comentario\".\n",
        "\n",
        "\n",
        "\n",
        "##### **FIN PARA AGREGAR TUS COMENTARIOS**\n",
        "#########################################################"
      ],
      "metadata": {
        "id": "G2IvO-KKo33m"
      }
    },
    {
      "cell_type": "code",
      "metadata": {
        "id": "lcJX3iG29jxs"
      },
      "source": [
        " # Separamos la información: \n",
        " #     La \"X\" serán los datos de entrada, los comentarios.\n",
        " #     La \"Y\" será la variable de salida, la evaluación.\n",
        " # Ambos, X y Y son \"Series\" \n",
        "\n",
        "X = df.review     # Serie de strings\n",
        "Y = df.label      # Serie de enteros 0s y 1s\n",
        "\n",
        "assert X.shape == (3000,)           # verificando que tenemos la dimensiones esperadas.\n",
        "assert Y.shape == (3000,)"
      ],
      "execution_count": null,
      "outputs": []
    },
    {
      "cell_type": "markdown",
      "source": [
        "##**Pregunta - 4:**"
      ],
      "metadata": {
        "id": "xcT5_EvAHIaE"
      }
    },
    {
      "cell_type": "markdown",
      "source": [
        "**En esta etapa deberás llevar a cabo el procesamiento, limpieza y tokenización de los comentarios de texto.**\n",
        "\n",
        "Deberás de incluir los procesos que se indicarán a continuación, aunque no necesariament deben ser en este orden. De hecho deberás estar revisando la salida de algunos de los registros para que determines cual consideras podría ser el mejor orden de estos pasos.\n",
        "\n",
        "La incluiremos en una función llamada \"clean_tok()\" ya que es la tokenización y limpieza básica de cada uno de los 3000 comentarios. La entrada de esta función son cada uno de estos 3000 strings/comentarios.\n",
        "\n",
        "Lo que nos regresa \"clean_tok()\" es una lista de tokens/strings ya simplificados de cada comentario de entrada.\n",
        "\n",
        "Los pasos a incluir son los siguientes (repito, tú deberás determinar el orden de ellos, aquí se incluyen en orden alfabético):\n",
        "\n",
        "*   **Caracteres alfabéticos:** Solo considerar caracteres alfabéticos. Por lo tanto, deberán ser eliminados signos de puntuación, caracteres especiales y números.\n",
        "\n",
        "*   **Longitud mayor a 1:** Se deben considerar solamente tokens de longitud mayor a 1.\n",
        "\n",
        "*   **Minúsculas:** Simplificar todo a minúsculas.\n",
        "\n",
        "*   **Stopwords:** Eliminar las stopwords.\n",
        "\n",
        "*   **Tokenización:** Cada comentario queda tokenizado por palabras, o cadena de caracteres alfabéticos.\n",
        "\n",
        "Por ejemplo, si el primer comentario de X fuera el string 'All you need is love!', lo que nos regresaría clean_tok() sería la lista de strings ['need', 'love'] que llamaremos \"tokens\"."
      ],
      "metadata": {
        "id": "sDNn-WU4HKJD"
      }
    },
    {
      "cell_type": "code",
      "source": [
        "import re\n",
        "from nltk.tokenize import word_tokenize"
      ],
      "metadata": {
        "id": "o-rxCL9lsEs2"
      },
      "execution_count": null,
      "outputs": []
    },
    {
      "cell_type": "code",
      "source": [
        "def clean_tok(doc):\n",
        "  ##############################################################################\n",
        "  # AGREGA AQUÍ TUS LÍNEAS DE CÓDIGO - Pregunta 4:\n",
        "\n",
        "# Paso 1: Simplificar todo a minúsculas\n",
        "    \n",
        "    # Paso 1: Simplificar todo a minúsculas\n",
        "    doc = doc.lower()\n",
        "    \n",
        "    # Paso 2: Eliminar signos de puntuación, caracteres especiales y números\n",
        "    texto_limpio = re.sub(r'[^\\w\\s]|_', ' ', doc)\n",
        "    texto_limpio_separado = re.sub(r'(?<=\\b\\w)[.,](?=\\w\\b)', ' ', texto_limpio)\n",
        "\n",
        "    texto_limpio_separado = ''.join(c for c in texto_limpio_separado if c.isalpha() or c.isspace())\n",
        "\n",
        "    # Paso 3: Tokenización\n",
        "    tokens = nltk.word_tokenize(texto_limpio_separado)\n",
        "    \n",
        "    # Paso 4: Eliminar stopwords y palabras de longitud menor o igual a 1\n",
        "    tokens = [token for token in tokens if token not in mystopwords and len(token) > 1]\n",
        "  # FIN PARA AGREGAR TUS LÍNEAS DE CÓDIGO.\n",
        "  ##############################################################################\n",
        "\n",
        "    return tokens"
      ],
      "metadata": {
        "id": "K59mMXdnVHoV"
      },
      "execution_count": null,
      "outputs": []
    },
    {
      "cell_type": "code",
      "metadata": {
        "id": "emzufPuTBA2Y"
      },
      "source": [
        "# Aplicamos el proceso de limpieza y tokenización:\n",
        "\n",
        "Xcleantok = [clean_tok(x) for x in X]   "
      ],
      "execution_count": null,
      "outputs": []
    },
    {
      "cell_type": "markdown",
      "source": [
        "Veamos los primeros comentarios.\n",
        "\n",
        "En particular observa si \"minutes\" y \"major\" están como dos tokens separados en el cuarto comentario. De nos ser así, si aparecen juntos como un solo token, debes revisar tu proceso de limpieza anterior, porque esto significa que pueden existir otros muchos casos que nos llevan a esta salida no deseada. Trata de determinar el origen de este problema (y solo en caso de que te haya aparecido como un solo token \"minutesmajor\", en el cuarto comentario).\n"
      ],
      "metadata": {
        "id": "d_EHTfav_5Qs"
      }
    },
    {
      "cell_type": "code",
      "source": [
        "for x in Xcleantok[0:5]:\n",
        "  print(x)"
      ],
      "metadata": {
        "id": "06yGlUdtCvhd",
        "colab": {
          "base_uri": "https://localhost:8080/"
        },
        "outputId": "f26353bd-2341-4c60-c18f-6cd7ab42a856"
      },
      "execution_count": null,
      "outputs": [
        {
          "output_type": "stream",
          "name": "stdout",
          "text": [
            "['no', 'way', 'plug', 'us', 'unless', 'go', 'converter']\n",
            "['good', 'case', 'excellent', 'value']\n",
            "['great', 'jawbone']\n",
            "['tied', 'charger', 'conversations', 'lasting', 'minutes', 'major', 'problems']\n",
            "['mic', 'great']\n"
          ]
        }
      ]
    },
    {
      "cell_type": "markdown",
      "source": [
        "##**Pregunta - 5:**"
      ],
      "metadata": {
        "id": "IXc4Z2m6WMUq"
      }
    },
    {
      "cell_type": "markdown",
      "source": [
        "Esta pregunta es abierta y podrás incluir todos aquellos procesos de limpieza adicionales que desees.\n",
        "\n",
        "Por ejemplo, puedes decidir aplicar algunos procesos (regex) para simplificar caracteres que aparecen repetidos más de dos veces, o bien simplificar algunas conjugaciones de verbos regulares para no incluir terminaciones en \"s\", \"ed\" o \"ing\". Puedes también decidir aplicar alguna de las técnicas de stemming o de lemmatization, etc.\n",
        "\n",
        "NOTA: Deberás aplicar al menos dos procesos de limpieza o normalización adicionales en esta función que llamamos simplemente clean_doc().\n",
        "\n",
        "La entrada son cada una de las listas con los comentarios tokenizados de Xcleantok y la salida es una lista de tokens simplficados/normalizados con el nombre de \"tokens\". En dado caso, algunos de los comentarios tokenizados pudieran no surgir cambio alguno bajo esta función.\n",
        "\n",
        "Recuerda que el objetivo de esta función \"clean_doc()\" es tener datos más limpios para el proceso de entrenamiento con los algoritmos de aprendizaje automático que se realizarán en las últimas preguntas.\n",
        "\n",
        "Puedes inspeccionar de manera aleatoria algunos de los 3000 registros para determinar qué procesos de limpieza adicionales incluir."
      ],
      "metadata": {
        "id": "2A2q04w1WOT3"
      }
    },
    {
      "cell_type": "code",
      "source": [
        "##############################################################################\n",
        "# AGREGA AQUÍ TUS LÍNEAS DE CÓDIGO - Pregunta 5:\n",
        "\n",
        "# Aquí puedes incluir las librerías, paquetes o líneas de código necesarias para\n",
        "# el proceso de limpieza adicional de esta pregunta:\n",
        "\n",
        "import re\n",
        "\n",
        "def clean_doc(doc):\n",
        "\n",
        "  # Simplificar algunas conjugaciones de verbos regulares\n",
        "  tokens = [re.sub(r'(ing|ed|s)$', '', token) for token in doc]\n",
        "\n",
        "  # Simplificar caracteres que aparecen repetidos más de dos veces\n",
        "  tokens = [re.sub(r'([a-z])\\1{2,}', r'\\1\\1', token) for token in doc]\n",
        "\n",
        "  return tokens\n",
        "  # FIN PARA AGREGAR TUS LÍNEAS DE CÓDIGO.\n",
        "  ##############################################################################"
      ],
      "metadata": {
        "id": "W64PSuG6usny"
      },
      "execution_count": null,
      "outputs": []
    },
    {
      "cell_type": "code",
      "source": [
        "# Aplicamos el proceso de limpieza/normalización adicionales:\n",
        "\n",
        "Xclean = [clean_doc(x) for x in Xcleantok]  "
      ],
      "metadata": {
        "id": "gXwjkV9wcN1v"
      },
      "execution_count": null,
      "outputs": []
    },
    {
      "cell_type": "code",
      "source": [
        "Xclean[0:5]         # Veamos los primero registros para ver cómo va quedando el resultado."
      ],
      "metadata": {
        "id": "OP5J6aLGcNv2",
        "colab": {
          "base_uri": "https://localhost:8080/"
        },
        "outputId": "4d96d015-315f-4f9b-eb4a-28fa097ab022"
      },
      "execution_count": null,
      "outputs": [
        {
          "output_type": "execute_result",
          "data": {
            "text/plain": [
              "[['no', 'way', 'plug', 'us', 'unless', 'go', 'converter'],\n",
              " ['good', 'case', 'excellent', 'value'],\n",
              " ['great', 'jawbone'],\n",
              " ['tied',\n",
              "  'charger',\n",
              "  'conversations',\n",
              "  'lasting',\n",
              "  'minutes',\n",
              "  'major',\n",
              "  'problems'],\n",
              " ['mic', 'great']]"
            ]
          },
          "metadata": {},
          "execution_count": 24
        }
      ]
    },
    {
      "cell_type": "markdown",
      "source": [
        "##**Pregunta - 6:**"
      ],
      "metadata": {
        "id": "1iurTQ-X5WdC"
      }
    },
    {
      "cell_type": "markdown",
      "source": [
        "En esta pregunta deberás generar la nube de palabras de cada clase: la de los comentarios positivos y la de los comentarios negativos.\n",
        "\n",
        "En la primera parte de esta pregunta y a partir del conjunto de comentarios obtenido hasta ahora, Xclean, deberás obtener el string de comentarios positivos llamada \"pt\" y el de comentarios negativos \"nt\".\n",
        "\n",
        "En la parte 2 deberás mostrar las dos nubes de palabras: la nube de palabras de los comentarios positivos y la nube de palabras de los comentarios negativos.\n",
        "\n",
        "En la parte 3 de este ejercicio deberás incluir tus comentarios de lo que observas de ambas nubes de palabras.\n",
        "\n",
        "Igualmente deberás incluir los paquetes o librerías necesarios."
      ],
      "metadata": {
        "id": "bAEWuvU975bV"
      }
    },
    {
      "cell_type": "code",
      "source": [
        "##############################################################################\n",
        "# AGREGA AQUÍ TUS LÍNEAS DE CÓDIGO - Pregunta 6 - parte 1:\n",
        "\n",
        "\n",
        "import matplotlib.pyplot as plt\n",
        "from wordcloud import WordCloud\n",
        "\n",
        "pt = []\n",
        "nt = []\n",
        "\n",
        "for i in range(len(Xclean)):\n",
        "    if Y[i] == 1:\n",
        "        pt.append(' '.join(Xclean[i])) # Convertimos el comentario tokenizado en un string\n",
        "    else:\n",
        "        nt.append(' '.join(Xclean[i])) # Convertimos el comentario tokenizado en un string\n",
        "\n",
        "# FIN PARA AGREGAR TUS LÍNEAS DE CÓDIGO.\n",
        "##############################################################################"
      ],
      "metadata": {
        "id": "kbcd3ylu80V3"
      },
      "execution_count": null,
      "outputs": []
    },
    {
      "cell_type": "code",
      "source": [
        "print(len(pt))\n",
        "print(len(nt))"
      ],
      "metadata": {
        "id": "wN-NuMRmXkR-",
        "outputId": "c1e29865-803c-4c56-f947-4ab98faefdaf",
        "colab": {
          "base_uri": "https://localhost:8080/"
        }
      },
      "execution_count": null,
      "outputs": [
        {
          "output_type": "stream",
          "name": "stdout",
          "text": [
            "1000\n",
            "2000\n"
          ]
        }
      ]
    },
    {
      "cell_type": "code",
      "source": [
        "##############################################################################\n",
        "# AGREGA AQUÍ TUS LÍNEAS DE CÓDIGO - Pregunta 6 - parte 2:\n",
        "\n",
        "# Creamos una WordCloud para los comentarios positivos\n",
        "wc_pt = WordCloud(background_color='white', max_words=50).generate(' '.join(pt))\n",
        "\n",
        "# Creamos una WordCloud para los comentarios negativos\n",
        "wc_nt = WordCloud(background_color='white', max_words=50).generate(' '.join(nt))\n",
        "\n",
        "# Crear figura con dos subplots\n",
        "fig, (ax1, ax2) = plt.subplots(1, 2, figsize=(12, 6))\n",
        "\n",
        "# Mostrar wordcloud de comentarios positivos en primer subplot\n",
        "ax1.imshow(wc_pt, interpolation='bilinear')\n",
        "ax1.set_title('Comentarios positivos')\n",
        "ax1.axis('off')\n",
        "\n",
        "# Mostrar wordcloud de comentarios negativos en segundo subplot\n",
        "ax2.imshow(wc_nt, interpolation='bilinear')\n",
        "ax2.set_title('Comentarios negativos')\n",
        "ax2.axis('off')\n",
        "\n",
        "plt.show()\n",
        "\n",
        "# FIN PARA AGREGAR TUS LÍNEAS DE CÓDIGO.\n",
        "##############################################################################"
      ],
      "metadata": {
        "id": "wiDmIOar9wkS",
        "outputId": "24871477-0e9e-4818-f242-1071302a481c",
        "colab": {
          "base_uri": "https://localhost:8080/",
          "height": 270
        }
      },
      "execution_count": null,
      "outputs": [
        {
          "output_type": "display_data",
          "data": {
            "text/plain": [
              "<Figure size 1200x600 with 2 Axes>"
            ],
            "image/png": "[encoded data removed]"
          },
          "metadata": {}
        }
      ]
    },
    {
      "cell_type": "markdown",
      "source": [
        "######################################################################\n",
        "###### **AGREGA AQUÍ TUS COMENTARIOS - Pregunta 6 - parte 3:**\n",
        "\n",
        "\n",
        "Podemos obervar que el conteo de palabras positivas esta un poco acertado ya que vemos palabras comog great y good, pero a s vez se ven palabras que no tienen nada que ver con un sentimiento positivo.\n",
        "\n",
        "En los comentarios negativos esta sucediendo algo mas extraño ya que hay palabras que reflejan sentimientos positivos en los negativos, como las palabras good y great.\n",
        "\n",
        "\n",
        "###### **FIN PARA AGREGAR TUS COMENTARIOS.**\n",
        "######################################################################"
      ],
      "metadata": {
        "id": "2WvHCKq9AGzi"
      }
    },
    {
      "cell_type": "markdown",
      "metadata": {
        "id": "xoD1rSYcDlFH"
      },
      "source": [
        "###**Train-Validation-Test**\n",
        "\n",
        "Para este ejercicio realizaremos una partición de train-validation-test del 70%-15%-15%, respectivamente. \n",
        "\n",
        "Obviamente la distribución de esta partición puede ser otro de los hiperparámetros a determinar, pero para fines de este ejercicio consideraremos dichos valores."
      ]
    },
    {
      "cell_type": "code",
      "metadata": {
        "id": "5xsYb82cDqPN",
        "outputId": "85a1fc63-d98b-43aa-d2a4-f22af1654406",
        "colab": {
          "base_uri": "https://localhost:8080/"
        }
      },
      "source": [
        "from sklearn.model_selection import train_test_split\n",
        "\n",
        "x_train, x_val_and_test, y_train, y_val_and_test = train_test_split(Xclean, Y, train_size=.70, shuffle=True, random_state=1) \n",
        "x_val, x_test, y_val, y_test = train_test_split(x_val_and_test, y_val_and_test, test_size=.50, shuffle=True, random_state=17)\n",
        "\n",
        "print('X,y Train:', len(x_train), len(y_train))      # los \"x_\" son \"list\" y los \"y_\" son \"Series\"\n",
        "print('X,y Val:', len(x_val), len(y_val))\n",
        "print('X,y Test', len(x_test), len(y_test))"
      ],
      "execution_count": null,
      "outputs": [
        {
          "output_type": "stream",
          "name": "stdout",
          "text": [
            "X,y Train: 2100 2100\n",
            "X,y Val: 450 450\n",
            "X,y Test 450 450\n"
          ]
        }
      ]
    },
    {
      "cell_type": "markdown",
      "metadata": {
        "id": "TJ4zQIwhIClF"
      },
      "source": [
        "###Construyamos a continuación nuestro vocabulario de palabras con base al conteo de tokens/palabras del conjunto de entrenamiento."
      ]
    },
    {
      "cell_type": "code",
      "source": [
        "from collections import Counter"
      ],
      "metadata": {
        "id": "7pNEUJPHDt5U"
      },
      "execution_count": null,
      "outputs": []
    },
    {
      "cell_type": "code",
      "metadata": {
        "id": "KvXZKduYIKZ1",
        "outputId": "ca8f9358-79c0-4d98-fc82-95ae72a6e8cf",
        "colab": {
          "base_uri": "https://localhost:8080/"
        }
      },
      "source": [
        "midiccionario = Counter()    \n",
        "\n",
        "for k in range(len(x_train)):\n",
        "  midiccionario.update(x_train[k])\n",
        "\n",
        "\n",
        "print('Longitud del diccionario:', len(midiccionario))  \n",
        "print('\\n(word,frequency):') \n",
        "print(midiccionario.most_common(10)) "
      ],
      "execution_count": null,
      "outputs": [
        {
          "output_type": "stream",
          "name": "stdout",
          "text": [
            "Longitud del diccionario: 3973\n",
            "\n",
            "(word,frequency):\n",
            "[('not', 225), ('good', 164), ('great', 138), ('phone', 129), ('movie', 119), ('film', 112), ('one', 97), ('like', 88), ('time', 85), ('food', 84)]\n"
          ]
        }
      ]
    },
    {
      "cell_type": "code",
      "metadata": {
        "id": "nK-JoAH0PbAm",
        "outputId": "08481304-5abe-4936-cee2-45603551cd52",
        "colab": {
          "base_uri": "https://localhost:8080/",
          "height": 430
        }
      },
      "source": [
        "# Veamos la gráfica de palabras nuestro diccionario con base a la frecuencia de las palabras/tokens:\n",
        "\n",
        "plt.plot(list(np.arange(len(midiccionario))), list(midiccionario.values()), color='blue')\n",
        "plt.show()"
      ],
      "execution_count": null,
      "outputs": [
        {
          "output_type": "display_data",
          "data": {
            "text/plain": [
              "<Figure size 640x480 with 1 Axes>"
            ],
            "image/png": "[encoded data removed]"
          },
          "metadata": {}
        }
      ]
    },
    {
      "cell_type": "markdown",
      "metadata": {
        "id": "5zh6yVo3QJAL"
      },
      "source": [
        "###Descartemos palabras cuya frecuencia en el conjunto de entrenamiento es muy pequeña:"
      ]
    },
    {
      "cell_type": "markdown",
      "source": [
        "##**Pregunta - 7:**"
      ],
      "metadata": {
        "id": "m1GlIF47I15k"
      }
    },
    {
      "cell_type": "markdown",
      "source": [
        "En esta pregunta deberás determinar la frecuencia mínima de aparición de los tokens del diccionario/vocabulario en el conjunto de entrenamiento. Es usual que al menos se filtren los tokens de frecuencia 1, ya que usualmente no dan mayor información.\n",
        "\n",
        "Sin embargo, la respuesta a si debemos filtrar todavía tokens de mayor frecuencia dependerá del tamaño que tengas actualmente de tu vocabulario y de la calidad de dichos tokens. Una manera de determinar dicha calidad de los tokens es con el resultado de los modelos de aprendizaje (regresión logística, random-forest, etc.) que aplicarás en los ejercicios de la última parte de esta Actividad.\n",
        "\n",
        "Así que por el momento puedes poner un valor arbitrario y más adelante ajustarlo con base al desempeño que obtengas de los modelos.\n",
        "\n",
        "Sin embargo, debes cuidar que la frecuencia de los tokens no la consideres demasiado grande, que empieces a generar una gran cantidad de comentarios vacíos en tu conjunto de entrenamiento.\n",
        "\n",
        "Llamaremos \"min_freq\" a la frecuencia mínima de aparición de un token para considerarlo dentro del vocabulario/diccionario. Debe ser un número entero.\n",
        "\n",
        "Llamaremos \"midicc\" al nuevo diccionario que generes con tokens de frecuencia natural (es decir, de conteo) mayor o igual a \"min_freq\"."
      ],
      "metadata": {
        "id": "Xm6Du9arI8W8"
      }
    },
    {
      "cell_type": "code",
      "source": [
        "##############################################################################\n",
        "# AGREGA AQUÍ TUS LÍNEAS DE CÓDIGO - Pregunta 7:\n",
        "\n",
        "min_freq = 2\n",
        "\n",
        "# Obtener la frecuencia de cada token\n",
        "freq_dict = Counter([token for comment in x_train for token in comment])\n",
        "\n",
        "midicc = {k:v for k,v in freq_dict.items() if v >= min_freq}\n",
        "\n",
        "\n",
        "# FIN PARA AGREGAR TUS LÍNEAS DE CÓDIGO.\n",
        "##############################################################################\n",
        "\n",
        "print('Nueva longitud del nuevo vocabulario:', len(midicc))\n",
        "print(list(midicc.items())[0:5])     # veamos algunos elementos del diccionario."
      ],
      "metadata": {
        "id": "t9tAWyXYK7Ej",
        "outputId": "53ca9814-14db-48c1-cdc6-dbf3a70b0ff9",
        "colab": {
          "base_uri": "https://localhost:8080/"
        }
      },
      "execution_count": null,
      "outputs": [
        {
          "output_type": "stream",
          "name": "stdout",
          "text": [
            "Nueva longitud del nuevo vocabulario: 1600\n",
            "[('stars', 11), ('don', 56), ('fare', 2), ('much', 39), ('better', 38)]\n"
          ]
        }
      ]
    },
    {
      "cell_type": "markdown",
      "metadata": {
        "id": "CDA2xvl_StVP"
      },
      "source": [
        "###Filtremos los conjuntos Train, Validation y Test con respecto al nuevo vocabulario propuesto:"
      ]
    },
    {
      "cell_type": "code",
      "metadata": {
        "id": "d1np99AiTQQT"
      },
      "source": [
        "train_x = []\n",
        "for ss in x_train:\n",
        "  train_x.append([w for w in ss if w in midicc])\n",
        "\n",
        "val_x = []\n",
        "for ss in x_val:\n",
        "  val_x.append([w for w in ss if w in midicc])\n",
        "\n",
        "test_x = []\n",
        "for ss in x_test:\n",
        "  test_x.append([w for w in ss if w in midicc])"
      ],
      "execution_count": null,
      "outputs": []
    },
    {
      "cell_type": "code",
      "metadata": {
        "id": "NTfkWb_DUAsE",
        "outputId": "b075805f-7707-413d-a51e-dd8e1bbe00bf",
        "colab": {
          "base_uri": "https://localhost:8080/"
        }
      },
      "source": [
        "# Podemos ver algunos de los comentarios de entrenamiento, antes y después \n",
        "# de incluir la condición de la frecuencia mínima de ocurrencia de un token:\n",
        "\n",
        "for k in range(3):\n",
        "  print('Antes:', x_train[k])\n",
        "  print('Después:', train_x[k])"
      ],
      "execution_count": null,
      "outputs": [
        {
          "output_type": "stream",
          "name": "stdout",
          "text": [
            "Antes: ['co', 'stars', 'don', 'fare', 'much', 'better', 'people', 'like', 'morgan', 'freeman', 'jonah', 'hill', 'ed', 'helms', 'wasted']\n",
            "Después: ['stars', 'don', 'fare', 'much', 'better', 'people', 'like', 'morgan', 'ed', 'wasted']\n",
            "Antes: ['tonight', 'elk', 'filet', 'special', 'sucked']\n",
            "Después: ['tonight', 'filet', 'special', 'sucked']\n",
            "Antes: ['paid', 'bill', 'not', 'tip', 'felt', 'server', 'terrible', 'job']\n",
            "Después: ['paid', 'bill', 'not', 'tip', 'felt', 'server', 'terrible', 'job']\n"
          ]
        }
      ]
    },
    {
      "cell_type": "markdown",
      "source": [
        "###Obtengamos las matrices de conteo document-term-matrix como matrices dispersas (sparse matrices ). Para ello requerimos que cada comentario esté como un solo string."
      ],
      "metadata": {
        "id": "lwnhTff1Pgh8"
      }
    },
    {
      "cell_type": "code",
      "source": [
        "train_x_docs = []\n",
        "for k in range(len(train_x)):\n",
        "  train_x_docs.append(' '.join(train_x[k]))\n",
        "\n",
        "val_x_docs = []\n",
        "for k in range(len(val_x)):\n",
        "  val_x_docs.append(' '.join(val_x[k]))\n",
        "\n",
        "test_x_docs = []\n",
        "for k in range(len(test_x)):\n",
        "  test_x_docs.append(' '.join(test_x[k]))\n",
        "\n",
        "\n",
        "\n",
        "# Verifica que los primeros comentarios de Train están cada uno como un solo string:\n",
        "for k in range(3):\n",
        "  print(train_x_docs[k])"
      ],
      "metadata": {
        "id": "XTeYtxD6QTzO",
        "outputId": "e20f497d-aad8-4c35-afc4-59631ff1a00d",
        "colab": {
          "base_uri": "https://localhost:8080/"
        }
      },
      "execution_count": null,
      "outputs": [
        {
          "output_type": "stream",
          "name": "stdout",
          "text": [
            "stars don fare much better people like morgan ed wasted\n",
            "tonight filet special sucked\n",
            "paid bill not tip felt server terrible job\n"
          ]
        }
      ]
    },
    {
      "cell_type": "markdown",
      "source": [
        "###Ahora generemos las matrices sparse en su formato predeterminado CSR de estas matrices de conteo:"
      ],
      "metadata": {
        "id": "XvZYTeJFR2Ue"
      }
    },
    {
      "cell_type": "code",
      "source": [
        "mivocab = list(midicc.keys())     # Obtenemos nuestro vocabulario de tokens/palabras.\n",
        "\n",
        "#mivocab.sort()    # Usualmente se ordenan alfabéticamente, pero para visualizar algunos de los valores \n",
        "                   # no cero de las matrices, por el momento no lo haremos.\n",
        "\n",
        "\n",
        "\n",
        "# Generamos las matrices dispersas requeridas con base al conteo de los tokens:\n",
        "from sklearn.feature_extraction.text import CountVectorizer\n",
        "\n",
        "countvectorizer = CountVectorizer(vocabulary=mivocab)\n",
        "train_x_count = countvectorizer.fit_transform(train_x_docs)     \n",
        "val_x_count = countvectorizer.transform(val_x_docs) \n",
        "test_x_count = countvectorizer.transform(test_x_docs)\n",
        "\n",
        "count_tokens = countvectorizer.get_feature_names_out()\n",
        "df_countvect = pd.DataFrame(data = train_x_count.toarray(),  columns = count_tokens)  \n",
        "print(df_countvect.iloc[0:3,6:18])   # veamos las frecuencias de los primeros comentarios."
      ],
      "metadata": {
        "id": "E5FGslE6PYlM",
        "outputId": "79909541-730a-4047-f363-284d0bf0d22c",
        "colab": {
          "base_uri": "https://localhost:8080/"
        }
      },
      "execution_count": null,
      "outputs": [
        {
          "output_type": "stream",
          "name": "stdout",
          "text": [
            "   like  morgan  ed  wasted  tonight  filet  special  sucked  paid  bill  not  \\\n",
            "0     1       1   1       1        0      0        0       0     0     0    0   \n",
            "1     0       0   0       0        1      1        1       1     0     0    0   \n",
            "2     0       0   0       0        0      0        0       0     1     1    1   \n",
            "\n",
            "   tip  \n",
            "0    0  \n",
            "1    0  \n",
            "2    1  \n"
          ]
        }
      ]
    },
    {
      "cell_type": "code",
      "source": [
        "p_sparse = 1 - train_x_count.count_nonzero() / (train_x_count.shape[0] * train_x_count.shape[1])    # Sparsity : Porcentaje de valores de 0.\n",
        "print('Porcentaje de valores cero de la matriz sparse de entrenamiento: %.1f%%' % (100*p_sparse))"
      ],
      "metadata": {
        "id": "ADFOT_HuVyRT",
        "outputId": "a217b869-a05e-41c7-a27b-0a811f20f941",
        "colab": {
          "base_uri": "https://localhost:8080/"
        }
      },
      "execution_count": null,
      "outputs": [
        {
          "output_type": "stream",
          "name": "stdout",
          "text": [
            "Porcentaje de valores cero de la matriz sparse de entrenamiento: 99.7%\n"
          ]
        }
      ]
    },
    {
      "cell_type": "markdown",
      "source": [
        "##**Pregunta - 8:**"
      ],
      "metadata": {
        "id": "L-S6wtXrXyJI"
      }
    },
    {
      "cell_type": "markdown",
      "source": [
        "En este ejercicio deberás ahora generar las matrices dispersas TF-IDF para los conjuntos de entrenamiento, validación y prueba.\n",
        "\n",
        "Deberás usar el vocabulario \"mivocab\" para generar dichas matrices.\n",
        "\n",
        "Dichas matrices las llamaremos \"train_x_tfidf\", \"val_x_tfidf\" y \"test_x_tfidf\".\n",
        "\n",
        "Deberás agregar además las librerías o módulos necesarios. \n",
        "\n",
        "Al final imprime los valores de algunos tokens de los primeros tres comentarios."
      ],
      "metadata": {
        "id": "f8MQL5_HYBp4"
      }
    },
    {
      "cell_type": "code",
      "source": [
        "##############################################################################\n",
        "# AGREGA AQUÍ TUS LÍNEAS DE CÓDIGO - Pregunta 8:\n",
        "from sklearn.feature_extraction.text import TfidfVectorizer\n",
        "\n",
        "# Creamos un objeto TfidfVectorizer con nuestro vocabulario mivocab\n",
        "vectorizer = TfidfVectorizer(vocabulary=mivocab)\n",
        "\n",
        "# Convertimos los conjuntos de entrenamiento, validación y prueba a matrices dispersas TF-IDF\n",
        "train_x_tfidf = vectorizer.fit_transform(train_x_docs)\n",
        "val_x_tfidf = vectorizer.transform(val_x_docs)\n",
        "test_x_tfidf = vectorizer.transform(test_x_docs)\n",
        "\n",
        "print(train_x_tfidf[0:3, mivocab.index('better')]) # valores del token 'like' en los primeros 3 comentarios de entrenamiento\n",
        "print(val_x_tfidf[0:3, mivocab.index('super')]) # valores del token 'super' en los primeros 3 comentarios de validacion\n",
        "print(test_x_tfidf[0:3, mivocab.index('no')]) # valores del token 'no' en los primeros 3 comentarios de testeo\n",
        "\n",
        "tfidf_tokens = vectorizer.get_feature_names_out()\n",
        "df_tfidfvect = pd.DataFrame(data = train_x_tfidf.toarray(),  columns = tfidf_tokens)  \n",
        "print(df_tfidfvect.iloc[0:1,0:]) \n",
        "\n",
        "# FIN PARA AGREGAR TUS LÍNEAS DE CÓDIGO.\n",
        "##############################################################################"
      ],
      "metadata": {
        "id": "2XnZSfRiYqqw",
        "outputId": "7efa2726-1fb7-447e-b8a9-f24b782c0b8d",
        "colab": {
          "base_uri": "https://localhost:8080/"
        }
      },
      "execution_count": null,
      "outputs": [
        {
          "output_type": "stream",
          "name": "stdout",
          "text": [
            "  (0, 0)\t0.2627426589343723\n",
            "  (1, 0)\t0.6792664000617626\n",
            "  (1, 0)\t0.3503774966543357\n",
            "      stars       don      fare      much    better    people      like  \\\n",
            "0  0.325989  0.243031  0.393732  0.259998  0.262743  0.287531  0.220618   \n",
            "\n",
            "     morgan        ed    wasted  ...  listening  mid  versus  unpredictable  \\\n",
            "0  0.393732  0.378733  0.336452  ...        0.0  0.0     0.0            0.0   \n",
            "\n",
            "   studio  ponyo  released  accidentally   pm  placed  \n",
            "0     0.0    0.0       0.0           0.0  0.0     0.0  \n",
            "\n",
            "[1 rows x 1600 columns]\n"
          ]
        }
      ]
    },
    {
      "cell_type": "markdown",
      "source": [
        "##**Pregunta - 9:**"
      ],
      "metadata": {
        "id": "bPl1-LILa2ya"
      }
    },
    {
      "cell_type": "markdown",
      "source": [
        "###A continuación, usando Sklearn, deberás aplicar los modelos de regresión logística (lo llamaremos modeloLRcount), ranfom-forest para clasificación (lo llamaremos modeloRFcount) y naive-bayes en su opción MultinomialNB (lo llamaremos modeloNBcount). \n",
        "\n",
        "###Deberás de utilizar las matrices de conteo \"train_x_count\", \"val_x_count\" y \"test_x_count\".\n",
        "\n",
        "###Con el mejor modelo obtenido, se usará el conjunto de prueba (test) para obtener el desempeño (Accuracy) final y su matriz de confusión.\n",
        "\n",
        "###Simplemente deberás buscar los mejores hiperparámetros de cada modelo. \n",
        "\n",
        "###No es necesario usar por el momento validación-cruzada (cross-validation).\n",
        "\n",
        "###Puedes probar primero cada uno de manera independiente para la búsqueda de los mejores hiperparámetros y ya que los tengas, incluir aquí tus mejores modelos de cada uno."
      ],
      "metadata": {
        "id": "RvJ1-GhNa8NP"
      }
    },
    {
      "cell_type": "code",
      "source": [
        "from sklearn.linear_model import LogisticRegression\n",
        "from sklearn.ensemble import RandomForestClassifier\n",
        "from sklearn.naive_bayes import MultinomialNB"
      ],
      "metadata": {
        "id": "6Plkf1hBX1D7"
      },
      "execution_count": null,
      "outputs": []
    },
    {
      "cell_type": "code",
      "source": [
        "y_train = y_train.tolist()\n",
        "y_val = y_val.tolist()\n",
        "y_test = y_test.tolist()\n",
        "\n",
        "y_train = [int(i) for  i in y_train]\n",
        "y_val = [int(i) for  i in y_val]\n",
        "y_test = [int(i) for  i in y_test]"
      ],
      "metadata": {
        "id": "q7jzJn8qkUD6"
      },
      "execution_count": null,
      "outputs": []
    },
    {
      "cell_type": "code",
      "source": [
        "##############################################################################\n",
        "# AGREGA AQUÍ TUS LÍNEAS DE CÓDIGO - Pregunta 9:\n",
        "\n",
        "\n",
        "modeloLRcount = LogisticRegression(max_iter=100, C=1.)\n",
        "modeloLRcount.fit(train_x_count,y_train)\n",
        "\n",
        "\n",
        "modeloRFcount = RandomForestClassifier()\n",
        "modeloRFcount.fit(train_x_count,y_train)\n",
        "\n",
        "\n",
        "\n",
        "\n",
        "modeloNBcount = MultinomialNB()\n",
        "modeloNBcount.fit(train_x_count,y_train)\n",
        "\n",
        "\n",
        "\n",
        "\n",
        "# FIN PARA AGREGAR TUS LÍNEAS DE CÓDIGO.\n",
        "##############################################################################\n",
        "\n",
        "\n",
        "print('LR: Train-accuracy: %.2f%%' % (100*modeloLRcount.score(train_x_count, y_train)))\n",
        "print('LR: Val-accuracy: %2.f%%' % (100*modeloLRcount.score(val_x_count, y_val)))\n",
        "\n",
        "print('\\nRF: Train-accuracy: %.2f%%' % (100*modeloRFcount.score(train_x_count, y_train)))\n",
        "print('RF: Val-accuracy: %.2f%%' % (100*modeloRFcount.score(val_x_count, y_val)))\n",
        "\n",
        "print('\\nNB: Train-accuracy: %.2f%%' % (100*modeloNBcount.score(train_x_count, y_train)))\n",
        "print('NB: Val-accuracy: %.2f%%' % (100*modeloNBcount.score(val_x_count, y_val)))"
      ],
      "metadata": {
        "id": "YQ7FyoOvjcXh",
        "outputId": "ac0de0ee-5bbb-41b4-cb85-e0f35de01218",
        "colab": {
          "base_uri": "https://localhost:8080/"
        }
      },
      "execution_count": null,
      "outputs": [
        {
          "output_type": "stream",
          "name": "stdout",
          "text": [
            "LR: Train-accuracy: 95.43%\n",
            "LR: Val-accuracy: 84%\n",
            "\n",
            "RF: Train-accuracy: 99.57%\n",
            "RF: Val-accuracy: 83.78%\n",
            "\n",
            "NB: Train-accuracy: 92.24%\n",
            "NB: Val-accuracy: 81.11%\n"
          ]
        }
      ]
    },
    {
      "cell_type": "code",
      "source": [
        "##############################################################################\n",
        "# AGREGA AQUÍ EL NOMBRE DE TU MEJOR MODELO OBTENIDO CON COUNTER:\n",
        "\n",
        "mejor_modelo_Count = LogisticRegression(max_iter=100, C=1.) # incluye el nombre, modeloXXcount, de tu mejor modelo.\n",
        "mejor_modelo_Count.fit(train_x_count,y_train)\n",
        "\n",
        "# FIN PARA AGREGAR TUS LÍNEAS DE CÓDIGO.\n",
        "##############################################################################\n",
        "\n",
        "\n",
        "\n",
        "print('Test-accuracy con el mejor modelo de Conteo %.2f%%' % (100*mejor_modelo_Count.score(test_x_count, y_test)))\n",
        "\n",
        "from sklearn.metrics import confusion_matrix\n",
        "\n",
        "pred = mejor_modelo_Count.predict(test_x_count)\n",
        "print('\\nMatriz de confusión con el mejor modelo de Conteo:')\n",
        "print(confusion_matrix(y_test, pred, labels=[0,1]))\n",
        "\n",
        "print('\\nMatriz de confusión con el mejor modelo de Conteo en proporciones:')\n",
        "print(confusion_matrix(y_test, pred, labels=[0,1]) / pred.shape[0])"
      ],
      "metadata": {
        "id": "RGlYDiAof3Wq",
        "outputId": "9b590e21-6d17-423d-d7fe-fd1799940be8",
        "colab": {
          "base_uri": "https://localhost:8080/"
        }
      },
      "execution_count": null,
      "outputs": [
        {
          "output_type": "stream",
          "name": "stdout",
          "text": [
            "Test-accuracy con el mejor modelo de Conteo 82.89%\n",
            "\n",
            "Matriz de confusión con el mejor modelo de Conteo:\n",
            "[[184  32]\n",
            " [ 45 189]]\n",
            "\n",
            "Matriz de confusión con el mejor modelo de Conteo en proporciones:\n",
            "[[0.40888889 0.07111111]\n",
            " [0.1        0.42      ]]\n"
          ]
        }
      ]
    },
    {
      "cell_type": "markdown",
      "source": [
        "##**Pregunta - 10:**"
      ],
      "metadata": {
        "id": "dfMzR65Hhs-h"
      }
    },
    {
      "cell_type": "markdown",
      "source": [
        "###Deberás repetir el ejercicio anterior, pero usando ahora las matrices TF-IDF obtenidas previamente: \"train_x_tfidf\", \"val_x_tfidf\" y \"test_x_tfidf\".\n",
        "\n",
        "###Llamaremos a los modelos modeloXXtfidf, para LR, RF y NB."
      ],
      "metadata": {
        "id": "OIU6j92_iTDh"
      }
    },
    {
      "cell_type": "code",
      "source": [
        "##############################################################################\n",
        "# AGREGA AQUÍ TUS LÍNEAS DE CÓDIGO - Pregunta 10:\n",
        "\n",
        "\n",
        "modeloLRtfidf = LogisticRegression(max_iter=100, C=1.)\n",
        "modeloLRtfidf.fit(train_x_tfidf,y_train)\n",
        "\n",
        "\n",
        "\n",
        "modeloRFtfidf = RandomForestClassifier()\n",
        "modeloRFtfidf.fit(train_x_tfidf,y_train)\n",
        "\n",
        "\n",
        "\n",
        "\n",
        "modeloNBtfidf = MultinomialNB()\n",
        "modeloNBtfidf.fit(train_x_tfidf,y_train)\n",
        "\n",
        "\n",
        "\n",
        "\n",
        "\n",
        "# FIN PARA AGREGAR TUS LÍNEAS DE CÓDIGO.\n",
        "##############################################################################\n",
        "\n",
        "\n",
        "print('Resultados parciales con matrices tf-idf:')\n",
        "print('\\nLR: Train-accuracy: %.2f%%' % (100*modeloLRtfidf.score(train_x_tfidf, y_train)))\n",
        "print('LR: Val-accuracy: %2.f%%' % (100*modeloLRtfidf.score(val_x_tfidf, y_val)))\n",
        "\n",
        "print('\\nRF: Train-accuracy: %.2f%%' % (100*modeloRFtfidf.score(train_x_tfidf, y_train)))\n",
        "print('RF: Val-accuracy: %.2f%%' % (100*modeloRFtfidf.score(val_x_tfidf, y_val)))\n",
        "\n",
        "print('\\nNB: Train-accuracy: %.2f%%' % (100*modeloNBtfidf.score(train_x_tfidf, y_train)))\n",
        "print('NB: Val-accuracy: %.2f%%' % (100*modeloNBtfidf.score(val_x_tfidf, y_val)))"
      ],
      "metadata": {
        "id": "QZ_IF9jxdjkv",
        "outputId": "19b4a5f9-3258-4067-e0c4-ae4bee0fac49",
        "colab": {
          "base_uri": "https://localhost:8080/"
        }
      },
      "execution_count": null,
      "outputs": [
        {
          "output_type": "stream",
          "name": "stdout",
          "text": [
            "Resultados parciales con matrices tf-idf:\n",
            "\n",
            "LR: Train-accuracy: 93.48%\n",
            "LR: Val-accuracy: 84%\n",
            "\n",
            "RF: Train-accuracy: 99.57%\n",
            "RF: Val-accuracy: 82.00%\n",
            "\n",
            "NB: Train-accuracy: 93.29%\n",
            "NB: Val-accuracy: 81.33%\n"
          ]
        }
      ]
    },
    {
      "cell_type": "code",
      "source": [
        "##############################################################################\n",
        "# AGREGA AQUÍ EL NOMBRE DE TU MEJOR MODELO OBTENIDO CON TF-IDF:\n",
        "\n",
        "mejor_modelo_Tfidf = LogisticRegression(max_iter=100, C=1.)\n",
        "mejor_modelo_Tfidf.fit(train_x_tfidf,y_train) # incluye el nombre, modeloXXtfidf, de tu mejor modelo.\n",
        "\n",
        "# FIN PARA AGREGAR TUS LÍNEAS DE CÓDIGO.\n",
        "##############################################################################\n",
        "\n",
        "\n",
        "\n",
        "print('Test-accuracy con el mejor modelo Tf-idf %.2f%%' % (100*mejor_modelo_Tfidf.score(test_x_tfidf, y_test)))\n",
        "\n",
        "pred = mejor_modelo_Tfidf.predict(test_x_tfidf)\n",
        "print('\\nMatriz de confusión con el mejor modelo Tf-idf:')\n",
        "print(confusion_matrix(y_test, pred, labels=[0,1]))\n",
        "\n",
        "print('\\nMatriz de confusión con el mejor modelo de Tf-idf en proporciones:')\n",
        "print(confusion_matrix(y_test, pred, labels=[0,1]) / pred.shape[0])"
      ],
      "metadata": {
        "id": "Fk-cvsF3djd8",
        "outputId": "1c90010c-6439-45dd-cc9c-8f919e4ced01",
        "colab": {
          "base_uri": "https://localhost:8080/"
        }
      },
      "execution_count": null,
      "outputs": [
        {
          "output_type": "stream",
          "name": "stdout",
          "text": [
            "Test-accuracy con el mejor modelo Tf-idf 81.33%\n",
            "\n",
            "Matriz de confusión con el mejor modelo Tf-idf:\n",
            "[[181  35]\n",
            " [ 49 185]]\n",
            "\n",
            "Matriz de confusión con el mejor modelo de Tf-idf en proporciones:\n",
            "[[0.40222222 0.07777778]\n",
            " [0.10888889 0.41111111]]\n"
          ]
        }
      ]
    },
    {
      "cell_type": "markdown",
      "source": [
        "##**Pregunta - 11:**"
      ],
      "metadata": {
        "id": "T2i2LXPBqVRS"
      }
    },
    {
      "cell_type": "markdown",
      "source": [
        "###Finalmente incluye tus conclusiones finales de la Actividad. \n",
        "\n",
        "###En particular, indica cuál técnica resultó mejor en este problema, ¿usando matrices de conteo o tf-idf?\n",
        "\n",
        "###Indica también a qué crees que se debe la diferencia entre los valores de los Falsos-Negativos y Falsos-Positivos de la mejor matriz de confusión que obtuviste. ¿Qué implicaciones podrían tener cada uno de estos errores?\n",
        "\n",
        "##**Como nota complementaria, se esperaría que tu mejor modelo final mínimamente debiera alcanzar un 72% de buen desempeño (accuracy), pero puede ser mayor.**"
      ],
      "metadata": {
        "id": "QNHZDkH7qXDy"
      }
    },
    {
      "cell_type": "markdown",
      "source": [
        "######################################################################\n",
        "###### **AGREGA AQUÍ TUS CONCLUSIONES FINALES - Pregunta 11:**\n",
        "\n",
        "\n",
        "La mejor tecnica resulto ser matrices de conteo pero solo por 1%, ambas tecnicas dan un resultado muy parecido, el uso de matrices de conteo puede resultar útil  especialmente cuando se trabaja con conjuntos de datos más pequeños y en problemas de clasificación más simples. \n",
        "\n",
        "La diferencia entre los valores de los Falsos-Negativos y Falsos-Positivos puede ser debiod al  desequilibrio en la distribución de las clases o la elección del umbral de decisión.\n",
        "\n",
        "Los Falsos-Negativos  pueden significar que algunos documentos relevantes no fueron identificados correctamente, lo que puede tener implicaciones negativas en tareas como la recuperación de información. Por otro lado, los Falsos-Positivos pueden dar lugar a la inclusión de documentos irrelevantes en una clasificación, lo que puede llevar a errores en la toma de decisiones o en la asignación de recursos. \n",
        "\n",
        "###### **FIN PARA AGREGAR TUS CONCLUSIONES FINALES.**\n",
        "######################################################################"
      ],
      "metadata": {
        "id": "WRF0z0gorGh1"
      }
    },
    {
      "cell_type": "markdown",
      "source": [
        "#**FIN DE LA ACTIVIDAD DE LAS SEMANAS 3 Y 4**"
      ],
      "metadata": {
        "id": "IDvRXhA_rdBy"
      }
    }
  ]
}